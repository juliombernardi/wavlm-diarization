{
 "cells": [
  {
   "metadata": {},
   "cell_type": "markdown",
   "source": "# Benchmark between `MSDD + Titanet` and `MSDD + WavLMBasePlus`",
   "id": "cded046ec3dd57d0"
  },
  {
   "metadata": {},
   "cell_type": "markdown",
   "source": "#### *The benchmark was performed using 10 randomly selected samples with a total duration of 60 seconds from the AMI Corpus Dataset.*",
   "id": "47cec77b5401359d"
  },
  {
   "metadata": {},
   "cell_type": "markdown",
   "source": "## Download\n",
   "id": "c5e0ec5d725382c7"
  },
  {
   "metadata": {},
   "cell_type": "code",
   "source": [
    "!mkdir -p .data\n",
    "!wget -O .data/ami_manual_1.6.1.tar.gz https://us.openslr.org/resources/16/ami_manual_1.6.1.tar.gz\n",
    "!wget -O .data/Array1-01.tar.gz https://www.openslr.org/resources/16/Array1-01.tar.gz"
   ],
   "id": "cdeaa7197529ca70",
   "outputs": [],
   "execution_count": null
  },
  {
   "metadata": {},
   "cell_type": "markdown",
   "source": "## Install Libraries & Packages",
   "id": "37ef0c4237d5a511"
  },
  {
   "metadata": {},
   "cell_type": "code",
   "source": [
    "%%capture\n",
    "!pip install pydub\n",
    "!pip install wavlmmsdd\n",
    "!pip install nemo_toolkit['asr']\n",
    "!sudo apt update && sudo apt install ffmpeg -y"
   ],
   "id": "7960d13fb226e637",
   "outputs": [],
   "execution_count": null
  },
  {
   "metadata": {},
   "cell_type": "markdown",
   "source": "## Imports",
   "id": "88f509dd560099d3"
  },
  {
   "metadata": {
    "ExecuteTime": {
     "end_time": "2025-02-14T16:34:54.748078Z",
     "start_time": "2025-02-14T16:34:54.746048Z"
    }
   },
   "cell_type": "code",
   "source": [
    "import os\n",
    "import json\n",
    "import glob\n",
    "import torch\n",
    "import random\n",
    "import tarfile\n",
    "from pydub import AudioSegment\n",
    "from omegaconf import OmegaConf\n",
    "import xml.etree.ElementTree as ET\n",
    "from wavlmmsdd.audio.feature.embedding import WavLMSV\n",
    "from wavlmmsdd.audio.diarization.diarize import Diarizer\n",
    "from nemo.collections.asr.models.msdd_models import NeuralDiarizer"
   ],
   "id": "57366c9fe77ac02c",
   "outputs": [],
   "execution_count": 12
  },
  {
   "metadata": {},
   "cell_type": "markdown",
   "source": "## Paths\n",
   "id": "d7f579da20b07474"
  },
  {
   "metadata": {
    "ExecuteTime": {
     "end_time": "2025-02-14T16:34:56.827629Z",
     "start_time": "2025-02-14T16:34:56.825671Z"
    }
   },
   "cell_type": "code",
   "source": [
    "root_dir = \".\"\n",
    "\n",
    "config_path = \"../src/wavlmmsdd/audio/config/diar_infer_telephonic.yaml\"\n",
    "manifest_path = \".data/manifest.json\"\n",
    "out_dir = \".data\"\n",
    "\n",
    "tar_path_ami_manual = \".data/ami_manual_1.6.1.tar.gz\"\n",
    "tar_path_ami_array1 = \".data/Array1-01.tar.gz\"\n",
    "\n",
    "ami_manual_extract_to = \".data/ami_manual_1.6.1\"\n",
    "ami_array1_extract_to = \".data/Array1-01\"\n",
    "\n",
    "segments_dir = \".data/ami_manual_1.6.1/segments\"\n",
    "wav_root_dir = \".data/Array1-01\""
   ],
   "id": "151173503091aaf5",
   "outputs": [],
   "execution_count": 13
  },
  {
   "metadata": {},
   "cell_type": "markdown",
   "source": "## Configuration\n",
   "id": "7f77f4e12f93d40e"
  },
  {
   "metadata": {
    "ExecuteTime": {
     "end_time": "2025-02-14T16:34:59.387604Z",
     "start_time": "2025-02-14T16:34:59.377472Z"
    }
   },
   "cell_type": "code",
   "source": [
    "cfg = OmegaConf.load(config_path)\n",
    "cfg.diarizer.manifest_filepath = manifest_path\n",
    "cfg.diarizer.out_dir = out_dir\n",
    "device = torch.device(\"cuda\" if torch.cuda.is_available() else \"cpu\")"
   ],
   "id": "7b13c11996ed8bf2",
   "outputs": [],
   "execution_count": 14
  },
  {
   "metadata": {},
   "cell_type": "markdown",
   "source": "## Methods",
   "id": "8e38f265c660c8c7"
  },
  {
   "metadata": {
    "ExecuteTime": {
     "end_time": "2025-02-14T16:35:03.080966Z",
     "start_time": "2025-02-14T16:35:03.071643Z"
    }
   },
   "cell_type": "code",
   "source": [
    "def extract(archive_path, extract_to):\n",
    "    with tarfile.open(archive_path, \"r:gz\") as tar:\n",
    "        tar.extractall(path=extract_to)\n",
    "    print(\"The archive '{}' has been successfully extracted to '{}'.\".format(archive_path, extract_to))\n",
    "\n",
    "def convert_segments_xml_to_rttm(segments_directory, wav_root_directory):\n",
    "    rttm_data = {}\n",
    "\n",
    "    pattern = os.path.join(segments_directory, \"*.segments.xml\")\n",
    "    for xml_file in glob.glob(pattern):\n",
    "        filename = os.path.basename(xml_file).replace(\".segments.xml\", \"\")\n",
    "        split_parts = filename.split(\".\")\n",
    "        if len(split_parts) < 2:\n",
    "            continue\n",
    "        meeting_id, speaker_label = split_parts[0], split_parts[1]\n",
    "\n",
    "        tree = ET.parse(xml_file)\n",
    "        root = tree.getroot()\n",
    "\n",
    "        for seg in root.findall(\"segment\"):\n",
    "            start_str = seg.get(\"transcriber_start\", \"0.0\")\n",
    "            end_str   = seg.get(\"transcriber_end\", \"0.0\")\n",
    "            try:\n",
    "                start = float(start_str)\n",
    "                end   = float(end_str)\n",
    "            except ValueError:\n",
    "                continue\n",
    "            duration = end - start\n",
    "            if duration <= 0:\n",
    "                continue\n",
    "\n",
    "            if meeting_id not in rttm_data:\n",
    "                rttm_data[meeting_id] = []\n",
    "            rttm_data[meeting_id].append((start, duration, speaker_label))\n",
    "\n",
    "    for meeting_id, segments in rttm_data.items():\n",
    "        wav_pattern = os.path.join(wav_root_directory, '**', f'{meeting_id}*.wav')\n",
    "        wav_files = glob.glob(wav_pattern, recursive=True)\n",
    "        if not wav_files:\n",
    "            print(f\"Warning: No WAV file found for {meeting_id}. RTTM file could not be created.\")\n",
    "            continue\n",
    "\n",
    "        wav_dir = os.path.dirname(wav_files[0])\n",
    "        output_path = os.path.join(wav_dir, f\"{meeting_id}.rttm\")\n",
    "        segments.sort(key=lambda x: x[0])\n",
    "\n",
    "        with open(output_path, \"w\", encoding=\"utf-8\") as f:\n",
    "            for (start, dur, spk) in segments:\n",
    "                line = f\"SPEAKER {meeting_id} 1 {start:.3f} {dur:.3f} <NA> <NA> {spk} <NA> <NA>\\n\"\n",
    "                f.write(line)\n",
    "        print(f\"Written: {output_path} ({len(segments)} segments)\")\n",
    "\n",
    "def convert_wavs_to_mono(base_dir):\n",
    "    for root, dirs, files in os.walk(base_dir):\n",
    "        for file in files:\n",
    "            if file.lower().endswith(\".wav\"):\n",
    "                filepath = os.path.join(root, file)\n",
    "                try:\n",
    "                    audio = AudioSegment.from_wav(filepath)\n",
    "                    if audio.channels > 1:\n",
    "                        print(f\"Converting to mono: {filepath}\")\n",
    "                        mono_audio = audio.set_channels(1)\n",
    "                        mono_audio.export(filepath, format=\"wav\")\n",
    "                    else:\n",
    "                        print(f\"Already mono: {filepath}\")\n",
    "                except Exception as e:\n",
    "                    print(f\"Error occurred: {filepath} - {e}\")\n",
    "\n",
    "def create_manifest_with_random_n_sample():\n",
    "    wav_root_directory = wav_root_dir\n",
    "    manifest_directory = manifest_path\n",
    "    duration = 60.0\n",
    "\n",
    "    all_wav_files = glob.glob(os.path.join(wav_root_directory, \"**\", \"*.wav\"), recursive=True)\n",
    "\n",
    "    if len(all_wav_files) < 10:\n",
    "        raise ValueError(f\"Found only {len(all_wav_files)} .wav files, need at least 10.\")\n",
    "\n",
    "    selected_wavs = random.sample(all_wav_files, 10)\n",
    "\n",
    "    with open(manifest_directory, \"w\", encoding=\"utf-8\") as f:\n",
    "        for wav_file in selected_wavs:\n",
    "            filename = os.path.basename(wav_file)\n",
    "\n",
    "            meeting_id = filename.split(\".\")[0]\n",
    "\n",
    "            rttm_file = os.path.join(os.path.dirname(wav_file), f\"{meeting_id}.rttm\")\n",
    "\n",
    "            entry = {\n",
    "                \"audio_filepath\": wav_file,\n",
    "                \"offset\": 0.0,\n",
    "                \"duration\": duration,\n",
    "                \"rttm_filepath\": rttm_file\n",
    "            }\n",
    "            f.write(json.dumps(entry) + \"\\n\")\n",
    "\n",
    "    print(f\"Manifest created with 10 entries: {manifest_path}\")"
   ],
   "id": "384ebe33ba67e6bd",
   "outputs": [],
   "execution_count": 15
  },
  {
   "metadata": {},
   "cell_type": "markdown",
   "source": "## Extract TAR",
   "id": "ec74e4d84a991d01"
  },
  {
   "metadata": {},
   "cell_type": "code",
   "source": [
    "extract(tar_path_ami_manual, ami_manual_extract_to)\n",
    "extract(tar_path_ami_array1, ami_array1_extract_to)"
   ],
   "id": "9cbf83beda19240b",
   "outputs": [],
   "execution_count": null
  },
  {
   "metadata": {},
   "cell_type": "markdown",
   "source": "## Convert XML to RTTM\n",
   "id": "8e5e4a7ea0dc59cb"
  },
  {
   "metadata": {
    "ExecuteTime": {
     "end_time": "2025-02-14T16:35:09.701218Z",
     "start_time": "2025-02-14T16:35:07.963336Z"
    }
   },
   "cell_type": "code",
   "source": "convert_segments_xml_to_rttm(segments_dir, wav_root_dir)",
   "id": "ecf30dd60dcb2931",
   "outputs": [
    {
     "name": "stdout",
     "output_type": "stream",
     "text": [
      "Written: .data/Array1-01/TS3011b/audio/TS3011b.rttm (544 segments)\n",
      "Written: .data/Array1-01/IS1008a/audio/IS1008a.rttm (176 segments)\n",
      "Written: .data/Array1-01/IS1007b/audio/IS1007b.rttm (372 segments)\n",
      "Written: .data/Array1-01/IS1007c/audio/IS1007c.rttm (465 segments)\n",
      "Written: .data/Array1-01/IS1005c/audio/IS1005c.rttm (406 segments)\n",
      "Written: .data/Array1-01/TS3007a/audio/TS3007a.rttm (472 segments)\n",
      "Written: .data/Array1-01/ES2016b/audio/ES2016b.rttm (392 segments)\n",
      "Written: .data/Array1-01/TS3007c/audio/TS3007c.rttm (699 segments)\n",
      "Written: .data/Array1-01/ES2009d/audio/ES2009d.rttm (694 segments)\n",
      "Written: .data/Array1-01/IN1001/audio/IN1001.rttm (775 segments)\n",
      "Written: .data/Array1-01/EN2009c/audio/EN2009c.rttm (618 segments)\n",
      "Written: .data/Array1-01/ES2008a/audio/ES2008a.rttm (194 segments)\n",
      "Written: .data/Array1-01/IS1002c/audio/IS1002c.rttm (502 segments)\n",
      "Written: .data/Array1-01/TS3006d/audio/TS3006d.rttm (1263 segments)\n",
      "Written: .data/Array1-01/IS1009d/audio/IS1009d.rttm (537 segments)\n",
      "Written: .data/Array1-01/ES2007a/audio/ES2007a.rttm (346 segments)\n",
      "Written: .data/Array1-01/EN2001d/audio/EN2001d.rttm (689 segments)\n",
      "Written: .data/Array1-01/TS3011d/audio/TS3011d.rttm (627 segments)\n",
      "Written: .data/Array1-01/IB4002/audio/IB4002.rttm (653 segments)\n",
      "Written: .data/Array1-01/ES2007b/audio/ES2007b.rttm (363 segments)\n",
      "Written: .data/Array1-01/ES2003a/audio/ES2003a.rttm (134 segments)\n",
      "Written: .data/Array1-01/IB4003/audio/IB4003.rttm (422 segments)\n",
      "Written: .data/Array1-01/ES2016d/audio/ES2016d.rttm (501 segments)\n",
      "Written: .data/Array1-01/TS3010c/audio/TS3010c.rttm (512 segments)\n",
      "Written: .data/Array1-01/ES2008d/audio/ES2008d.rttm (860 segments)\n",
      "Written: .data/Array1-01/TS3010b/audio/TS3010b.rttm (349 segments)\n",
      "Written: .data/Array1-01/IB4005/audio/IB4005.rttm (580 segments)\n",
      "Written: .data/Array1-01/IS1006a/audio/IS1006a.rttm (338 segments)\n",
      "Written: .data/Array1-01/ES2013c/audio/ES2013c.rttm (437 segments)\n",
      "Written: .data/Array1-01/EN2002b/audio/EN2002b.rttm (550 segments)\n",
      "Written: .data/Array1-01/IS1001c/audio/IS1001c.rttm (385 segments)\n",
      "Written: .data/Array1-01/IS1005a/audio/IS1005a.rttm (212 segments)\n",
      "Written: .data/Array1-01/EN2005a/audio/EN2005a.rttm (759 segments)\n",
      "Written: .data/Array1-01/IS1008b/audio/IS1008b.rttm (354 segments)\n",
      "Written: .data/Array1-01/TS3005a/audio/TS3005a.rttm (362 segments)\n",
      "Written: .data/Array1-01/TS3004c/audio/TS3004c.rttm (764 segments)\n",
      "Written: .data/Array1-01/IS1007a/audio/IS1007a.rttm (273 segments)\n",
      "Written: .data/Array1-01/TS3007d/audio/TS3007d.rttm (1065 segments)\n",
      "Written: .data/Array1-01/ES2014b/audio/ES2014b.rttm (501 segments)\n",
      "Written: .data/Array1-01/TS3005d/audio/TS3005d.rttm (1318 segments)\n",
      "Written: .data/Array1-01/IS1004a/audio/IS1004a.rttm (112 segments)\n",
      "Written: .data/Array1-01/TS3004a/audio/TS3004a.rttm (404 segments)\n",
      "Written: .data/Array1-01/IS1004c/audio/IS1004c.rttm (596 segments)\n",
      "Written: .data/Array1-01/IN1014/audio/IN1014.rttm (647 segments)\n",
      "Written: .data/Array1-01/IS1006c/audio/IS1006c.rttm (567 segments)\n",
      "Written: .data/Array1-01/TS3009c/audio/TS3009c.rttm (925 segments)\n",
      "Written: .data/Array1-01/ES2002d/audio/ES2002d.rttm (831 segments)\n",
      "Written: .data/Array1-01/EN2002a/audio/EN2002a.rttm (825 segments)\n",
      "Written: .data/Array1-01/IS1002d/audio/IS1002d.rttm (355 segments)\n",
      "Written: .data/Array1-01/TS3009d/audio/TS3009d.rttm (902 segments)\n",
      "Written: .data/Array1-01/TS3008c/audio/TS3008c.rttm (747 segments)\n",
      "Written: .data/Array1-01/IB4010/audio/IB4010.rttm (1007 segments)\n",
      "Written: .data/Array1-01/IN1012/audio/IN1012.rttm (823 segments)\n",
      "Written: .data/Array1-01/TS3008d/audio/TS3008d.rttm (965 segments)\n",
      "Warning: No WAV file found for IS1003b. RTTM file could not be created.\n",
      "Written: .data/Array1-01/ES2015a/audio/ES2015a.rttm (251 segments)\n",
      "Written: .data/Array1-01/TS3005c/audio/TS3005c.rttm (698 segments)\n",
      "Written: .data/Array1-01/TS3012c/audio/TS3012c.rttm (890 segments)\n",
      "Written: .data/Array1-01/TS3012b/audio/TS3012b.rttm (751 segments)\n",
      "Written: .data/Array1-01/ES2010c/audio/ES2010c.rttm (436 segments)\n",
      "Written: .data/Array1-01/ES2011a/audio/ES2011a.rttm (263 segments)\n",
      "Written: .data/Array1-01/ES2015d/audio/ES2015d.rttm (779 segments)\n",
      "Written: .data/Array1-01/IB4004/audio/IB4004.rttm (625 segments)\n",
      "Written: .data/Array1-01/ES2005a/audio/ES2005a.rttm (91 segments)\n",
      "Written: .data/Array1-01/ES2008b/audio/ES2008b.rttm (474 segments)\n",
      "Written: .data/Array1-01/ES2014c/audio/ES2014c.rttm (531 segments)\n",
      "Written: .data/Array1-01/ES2007d/audio/ES2007d.rttm (406 segments)\n",
      "Written: .data/Array1-01/TS3010d/audio/TS3010d.rttm (474 segments)\n",
      "Written: .data/Array1-01/TS3006b/audio/TS3006b.rttm (871 segments)\n",
      "Written: .data/Array1-01/IN1008/audio/IN1008.rttm (775 segments)\n",
      "Written: .data/Array1-01/ES2004b/audio/ES2004b.rttm (487 segments)\n",
      "Written: .data/Array1-01/ES2013b/audio/ES2013b.rttm (395 segments)\n",
      "Written: .data/Array1-01/ES2008c/audio/ES2008c.rttm (431 segments)\n",
      "Written: .data/Array1-01/IS1009c/audio/IS1009c.rttm (333 segments)\n",
      "Written: .data/Array1-01/ES2002a/audio/ES2002a.rttm (277 segments)\n",
      "Written: .data/Array1-01/IS1000a/audio/IS1000a.rttm (429 segments)\n",
      "Written: .data/Array1-01/ES2004c/audio/ES2004c.rttm (521 segments)\n",
      "Written: .data/Array1-01/IS1001a/audio/IS1001a.rttm (244 segments)\n",
      "Written: .data/Array1-01/IS1005b/audio/IS1005b.rttm (424 segments)\n",
      "Written: .data/Array1-01/ES2002b/audio/ES2002b.rttm (459 segments)\n",
      "Written: .data/Array1-01/TS3011a/audio/TS3011a.rttm (274 segments)\n",
      "Written: .data/Array1-01/EN2001a/audio/EN2001a.rttm (1014 segments)\n",
      "Written: .data/Array1-01/ES2005b/audio/ES2005b.rttm (598 segments)\n",
      "Written: .data/Array1-01/IN1016/audio/IN1016.rttm (848 segments)\n",
      "Written: .data/Array1-01/ES2006b/audio/ES2006b.rttm (449 segments)\n",
      "Written: .data/Array1-01/ES2016c/audio/ES2016c.rttm (353 segments)\n",
      "Written: .data/Array1-01/IS1009b/audio/IS1009b.rttm (409 segments)\n",
      "Written: .data/Array1-01/EN2006b/audio/EN2006b.rttm (1060 segments)\n",
      "Written: .data/Array1-01/ES2009a/audio/ES2009a.rttm (414 segments)\n",
      "Written: .data/Array1-01/TS3003d/audio/TS3003d.rttm (771 segments)\n",
      "Written: .data/Array1-01/EN2001e/audio/EN2001e.rttm (811 segments)\n",
      "Written: .data/Array1-01/IS1001d/audio/IS1001d.rttm (267 segments)\n",
      "Written: .data/Array1-01/ES2016a/audio/ES2016a.rttm (266 segments)\n",
      "Written: .data/Array1-01/TS3006c/audio/TS3006c.rttm (932 segments)\n",
      "Written: .data/Array1-01/ES2005c/audio/ES2005c.rttm (691 segments)\n",
      "Warning: No WAV file found for IS1007d. RTTM file could not be created.\n",
      "Written: .data/Array1-01/ES2010d/audio/ES2010d.rttm (371 segments)\n",
      "Written: .data/Array1-01/IN1009/audio/IN1009.rttm (290 segments)\n",
      "Written: .data/Array1-01/EN2006a/audio/EN2006a.rttm (1251 segments)\n",
      "Written: .data/Array1-01/ES2005d/audio/ES2005d.rttm (485 segments)\n",
      "Written: .data/Array1-01/ES2003b/audio/ES2003b.rttm (297 segments)\n",
      "Written: .data/Array1-01/ES2010b/audio/ES2010b.rttm (394 segments)\n",
      "Written: .data/Array1-01/IS1006d/audio/IS1006d.rttm (948 segments)\n",
      "Written: .data/Array1-01/IB4001/audio/IB4001.rttm (571 segments)\n",
      "Written: .data/Array1-01/ES2013d/audio/ES2013d.rttm (416 segments)\n",
      "Written: .data/Array1-01/ES2012c/audio/ES2012c.rttm (478 segments)\n",
      "Written: .data/Array1-01/EN2001b/audio/EN2001b.rttm (666 segments)\n",
      "Written: .data/Array1-01/TS3012d/audio/TS3012d.rttm (769 segments)\n",
      "Written: .data/Array1-01/IS1008d/audio/IS1008d.rttm (386 segments)\n",
      "Written: .data/Array1-01/ES2011c/audio/ES2011c.rttm (447 segments)\n",
      "Written: .data/Array1-01/IS1003d/audio/IS1003d.rttm (896 segments)\n",
      "Written: .data/Array1-01/TS3010a/audio/TS3010a.rttm (187 segments)\n",
      "Written: .data/Array1-01/IS1003a/audio/IS1003a.rttm (299 segments)\n",
      "Written: .data/Array1-01/TS3007b/audio/TS3007b.rttm (517 segments)\n",
      "Written: .data/Array1-01/ES2009c/audio/ES2009c.rttm (453 segments)\n",
      "Written: .data/Array1-01/ES2006a/audio/ES2006a.rttm (288 segments)\n",
      "Written: .data/Array1-01/IN1007/audio/IN1007.rttm (667 segments)\n",
      "Written: .data/Array1-01/TS3004b/audio/TS3004b.rttm (607 segments)\n",
      "Written: .data/Array1-01/ES2004a/audio/ES2004a.rttm (283 segments)\n",
      "Written: .data/Array1-01/ES2006c/audio/ES2006c.rttm (531 segments)\n",
      "Written: .data/Array1-01/IS1002b/audio/IS1002b.rttm (426 segments)\n",
      "Written: .data/Array1-01/IS1000c/audio/IS1000c.rttm (477 segments)\n",
      "Written: .data/Array1-01/EN2004a/audio/EN2004a.rttm (1005 segments)\n",
      "Written: .data/Array1-01/EN2002c/audio/EN2002c.rttm (677 segments)\n",
      "Written: .data/Array1-01/EN2009b/audio/EN2009b.rttm (470 segments)\n",
      "Written: .data/Array1-01/IN1013/audio/IN1013.rttm (851 segments)\n",
      "Written: .data/Array1-01/IS1004d/audio/IS1004d.rttm (707 segments)\n",
      "Written: .data/Array1-01/ES2015c/audio/ES2015c.rttm (578 segments)\n",
      "Written: .data/Array1-01/ES2012b/audio/ES2012b.rttm (396 segments)\n",
      "Written: .data/Array1-01/TS3012a/audio/TS3012a.rttm (201 segments)\n",
      "Written: .data/Array1-01/TS3011c/audio/TS3011c.rttm (561 segments)\n",
      "Written: .data/Array1-01/ES2010a/audio/ES2010a.rttm (136 segments)\n",
      "Written: .data/Array1-01/TS3003c/audio/TS3003c.rttm (416 segments)\n",
      "Written: .data/Array1-01/IS1000d/audio/IS1000d.rttm (943 segments)\n",
      "Written: .data/Array1-01/IS1008c/audio/IS1008c.rttm (372 segments)\n",
      "Written: .data/Array1-01/TS3009b/audio/TS3009b.rttm (810 segments)\n",
      "Written: .data/Array1-01/ES2014d/audio/ES2014d.rttm (772 segments)\n",
      "Written: .data/Array1-01/IB4011/audio/IB4011.rttm (785 segments)\n",
      "Written: .data/Array1-01/ES2007c/audio/ES2007c.rttm (583 segments)\n",
      "Written: .data/Array1-01/ES2011b/audio/ES2011b.rttm (358 segments)\n",
      "Written: .data/Array1-01/TS3006a/audio/TS3006a.rttm (441 segments)\n",
      "Written: .data/Array1-01/TS3009a/audio/TS3009a.rttm (579 segments)\n",
      "Written: .data/Array1-01/IS1009a/audio/IS1009a.rttm (222 segments)\n",
      "Written: .data/Array1-01/ES2003c/audio/ES2003c.rttm (364 segments)\n",
      "Written: .data/Array1-01/IS1000b/audio/IS1000b.rttm (544 segments)\n",
      "Written: .data/Array1-01/IS1004b/audio/IS1004b.rttm (373 segments)\n",
      "Written: .data/Array1-01/ES2009b/audio/ES2009b.rttm (282 segments)\n",
      "Written: .data/Array1-01/ES2015b/audio/ES2015b.rttm (530 segments)\n",
      "Written: .data/Array1-01/ES2013a/audio/ES2013a.rttm (156 segments)\n",
      "Written: .data/Array1-01/ES2003d/audio/ES2003d.rttm (520 segments)\n",
      "Written: .data/Array1-01/EN2009d/audio/EN2009d.rttm (1251 segments)\n",
      "Written: .data/Array1-01/IS1006b/audio/IS1006b.rttm (551 segments)\n",
      "Written: .data/Array1-01/IS1001b/audio/IS1001b.rttm (550 segments)\n",
      "Written: .data/Array1-01/ES2012a/audio/ES2012a.rttm (155 segments)\n",
      "Written: .data/Array1-01/ES2004d/audio/ES2004d.rttm (667 segments)\n",
      "Written: .data/Array1-01/TS3003b/audio/TS3003b.rttm (439 segments)\n",
      "Written: .data/Array1-01/EN2002d/audio/EN2002d.rttm (801 segments)\n",
      "Written: .data/Array1-01/ES2014a/audio/ES2014a.rttm (221 segments)\n",
      "Written: .data/Array1-01/IN1002/audio/IN1002.rttm (658 segments)\n",
      "Written: .data/Array1-01/TS3005b/audio/TS3005b.rttm (749 segments)\n",
      "Written: .data/Array1-01/ES2011d/audio/ES2011d.rttm (563 segments)\n",
      "Written: .data/Array1-01/ES2006d/audio/ES2006d.rttm (765 segments)\n",
      "Written: .data/Array1-01/EN2003a/audio/EN2003a.rttm (487 segments)\n",
      "Written: .data/Array1-01/TS3004d/audio/TS3004d.rttm (919 segments)\n",
      "Written: .data/Array1-01/IN1005/audio/IN1005.rttm (467 segments)\n",
      "Written: .data/Array1-01/TS3008b/audio/TS3008b.rttm (598 segments)\n",
      "Written: .data/Array1-01/ES2002c/audio/ES2002c.rttm (542 segments)\n",
      "Written: .data/Array1-01/TS3008a/audio/TS3008a.rttm (413 segments)\n",
      "Written: .data/Array1-01/TS3003a/audio/TS3003a.rttm (309 segments)\n",
      "Written: .data/Array1-01/IS1003c/audio/IS1003c.rttm (551 segments)\n",
      "Written: .data/Array1-01/ES2012d/audio/ES2012d.rttm (268 segments)\n"
     ]
    }
   ],
   "execution_count": 16
  },
  {
   "metadata": {},
   "cell_type": "markdown",
   "source": "## Convert to Mono",
   "id": "79a6163fd919c515"
  },
  {
   "metadata": {
    "ExecuteTime": {
     "end_time": "2025-02-14T16:36:07.775162Z",
     "start_time": "2025-02-14T16:35:40.641015Z"
    }
   },
   "cell_type": "code",
   "source": "convert_wavs_to_mono(wav_root_dir)",
   "id": "881065eab76cd2f7",
   "outputs": [
    {
     "name": "stdout",
     "output_type": "stream",
     "text": [
      "Already mono: .data/Array1-01/ES2002b/audio/ES2002b.Array1-01.wav\n",
      "Already mono: .data/Array1-01/ES2005d/audio/ES2005d.Array1-01.wav\n",
      "Already mono: .data/Array1-01/IS1000a/audio/IS1000a.Array1-01.wav\n",
      "Already mono: .data/Array1-01/TS3010c/audio/TS3010c.Array1-01.wav\n",
      "Already mono: .data/Array1-01/ES2011a/audio/ES2011a.Array1-01.wav\n",
      "Already mono: .data/Array1-01/ES2006d/audio/ES2006d.Array1-01.wav\n",
      "Already mono: .data/Array1-01/IS1001b/audio/IS1001b.Array1-01.wav\n",
      "Already mono: .data/Array1-01/ES2011d/audio/ES2011d.Array1-01.wav\n",
      "Already mono: .data/Array1-01/ES2010c/audio/ES2010c.Array1-01.wav\n",
      "Already mono: .data/Array1-01/TS3003c/audio/TS3003c.Array1-01.wav\n",
      "Already mono: .data/Array1-01/IB4005/audio/IB4005.Array1-01.wav\n",
      "Already mono: .data/Array1-01/ES2010d/audio/ES2010d.Array1-01.wav\n",
      "Already mono: .data/Array1-01/TS3005b/audio/TS3005b.Array1-01.wav\n",
      "Already mono: .data/Array1-01/ES2015d/audio/ES2015d.Array1-01.wav\n",
      "Already mono: .data/Array1-01/TS3004d/audio/TS3004d.Array1-01.wav\n",
      "Already mono: .data/Array1-01/IS1009c/audio/IS1009c.Array1-01.wav\n",
      "Already mono: .data/Array1-01/EN2005a/audio/EN2005a.Array1-01.wav\n",
      "Already mono: .data/Array1-01/ES2005b/audio/ES2005b.Array1-01.wav\n",
      "Already mono: .data/Array1-01/IN1014/audio/IN1014.Array1-01.wav\n",
      "Already mono: .data/Array1-01/TS3007a/audio/TS3007a.Array1-01.wav\n",
      "Already mono: .data/Array1-01/TS3003d/audio/TS3003d.Array1-01.wav\n",
      "Already mono: .data/Array1-01/TS3008b/audio/TS3008b.Array1-01.wav\n",
      "Already mono: .data/Array1-01/IN1012/audio/IN1012.Array1-01.wav\n",
      "Already mono: .data/Array1-01/ES2014d/audio/ES2014d.Array1-01.wav\n",
      "Already mono: .data/Array1-01/ES2011c/audio/ES2011c.Array1-01.wav\n",
      "Already mono: .data/Array1-01/TS3009c/audio/TS3009c.Array1-01.wav\n",
      "Already mono: .data/Array1-01/ES2007c/audio/ES2007c.Array1-01.wav\n",
      "Already mono: .data/Array1-01/IS1004b/audio/IS1004b.Array1-01.wav\n",
      "Already mono: .data/Array1-01/TS3006c/audio/TS3006c.Array1-01.wav\n",
      "Already mono: .data/Array1-01/TS3007d/audio/TS3007d.Array1-01.wav\n",
      "Already mono: .data/Array1-01/TS3006b/audio/TS3006b.Array1-01.wav\n",
      "Already mono: .data/Array1-01/IS1009a/audio/IS1009a.Array1-01.wav\n",
      "Already mono: .data/Array1-01/TS3011d/audio/TS3011d.Array1-01.wav\n",
      "Already mono: .data/Array1-01/TS3012b/audio/TS3012b.Array1-01.wav\n",
      "Already mono: .data/Array1-01/TS3012a/audio/TS3012a.Array1-01.wav\n",
      "Already mono: .data/Array1-01/IN1001/audio/IN1001.Array1-01.wav\n",
      "Already mono: .data/Array1-01/ES2014a/audio/ES2014a.Array1-01.wav\n",
      "Already mono: .data/Array1-01/IS1004a/audio/IS1004a.Array1-01.wav\n",
      "Already mono: .data/Array1-01/ES2005c/audio/ES2005c.Array1-01.wav\n",
      "Already mono: .data/Array1-01/ES2007a/audio/ES2007a.Array1-01.wav\n",
      "Already mono: .data/Array1-01/IN1016/audio/IN1016.Array1-01.wav\n",
      "Already mono: .data/Array1-01/ES2012d/audio/ES2012d.Array1-01.wav\n",
      "Already mono: .data/Array1-01/IS1009d/audio/IS1009d.Array1-01.wav\n",
      "Already mono: .data/Array1-01/IS1004d/audio/IS1004d.Array1-01.wav\n",
      "Already mono: .data/Array1-01/ES2008d/audio/ES2008d.Array1-01.wav\n",
      "Already mono: .data/Array1-01/IN1002/audio/IN1002.Array1-01.wav\n",
      "Already mono: .data/Array1-01/IS1005c/audio/IS1005c.Array1-01.wav\n",
      "Already mono: .data/Array1-01/ES2010a/audio/ES2010a.Array1-01.wav\n",
      "Already mono: .data/Array1-01/IS1006c/audio/IS1006c.Array1-01.wav\n",
      "Already mono: .data/Array1-01/ES2014b/audio/ES2014b.Array1-01.wav\n",
      "Already mono: .data/Array1-01/ES2007d/audio/ES2007d.Array1-01.wav\n",
      "Already mono: .data/Array1-01/ES2013d/audio/ES2013d.Array1-01.wav\n",
      "Already mono: .data/Array1-01/IS1008b/audio/IS1008b.Array1-01.wav\n",
      "Already mono: .data/Array1-01/TS3005c/audio/TS3005c.Array1-01.wav\n",
      "Already mono: .data/Array1-01/ES2016d/audio/ES2016d.Array1-01.wav\n",
      "Already mono: .data/Array1-01/ES2015b/audio/ES2015b.Array1-01.wav\n",
      "Already mono: .data/Array1-01/ES2009c/audio/ES2009c.Array1-01.wav\n",
      "Already mono: .data/Array1-01/ES2006c/audio/ES2006c.Array1-01.wav\n",
      "Already mono: .data/Array1-01/TS3008d/audio/TS3008d.Array1-01.wav\n",
      "Already mono: .data/Array1-01/TS3006a/audio/TS3006a.Array1-01.wav\n",
      "Already mono: .data/Array1-01/TS3007b/audio/TS3007b.Array1-01.wav\n",
      "Already mono: .data/Array1-01/IS1008c/audio/IS1008c.Array1-01.wav\n",
      "Already mono: .data/Array1-01/ES2005a/audio/ES2005a.Array1-01.wav\n",
      "Already mono: .data/Array1-01/IS1000b/audio/IS1000b.Array1-01.wav\n",
      "Already mono: .data/Array1-01/IN1013/audio/IN1013.Array1-01.wav\n",
      "Already mono: .data/Array1-01/IB4001/audio/IB4001.Array1-01.wav\n",
      "Already mono: .data/Array1-01/ES2002a/audio/ES2002a.Array1-01.wav\n",
      "Already mono: .data/Array1-01/EN2004a/audio/EN2004a.Array1-01.wav\n",
      "Already mono: .data/Array1-01/ES2013a/audio/ES2013a.Array1-01.wav\n",
      "Already mono: .data/Array1-01/IS1001c/audio/IS1001c.Array1-01.wav\n",
      "Already mono: .data/Array1-01/TS3011c/audio/TS3011c.Array1-01.wav\n",
      "Already mono: .data/Array1-01/TS3010a/audio/TS3010a.Array1-01.wav\n",
      "Already mono: .data/Array1-01/IN1009/audio/IN1009.Array1-01.wav\n",
      "Already mono: .data/Array1-01/ES2012c/audio/ES2012c.Array1-01.wav\n",
      "Already mono: .data/Array1-01/TS3005d/audio/TS3005d.Array1-01.wav\n",
      "Already mono: .data/Array1-01/IS1009b/audio/IS1009b.Array1-01.wav\n",
      "Already mono: .data/Array1-01/IS1006d/audio/IS1006d.Array1-01.wav\n",
      "Already mono: .data/Array1-01/EN2001b/audio/EN2001b.Array1-01.wav\n",
      "Already mono: .data/Array1-01/ES2016a/audio/ES2016a.Array1-01.wav\n",
      "Already mono: .data/Array1-01/IS1002b/audio/IS1002b.Array1-01.wav\n",
      "Already mono: .data/Array1-01/EN2009c/audio/EN2009c.Array1-01.wav\n",
      "Already mono: .data/Array1-01/ES2008c/audio/ES2008c.Array1-01.wav\n",
      "Already mono: .data/Array1-01/TS3010d/audio/TS3010d.Array1-01.wav\n",
      "Already mono: .data/Array1-01/IB4004/audio/IB4004.Array1-01.wav\n",
      "Already mono: .data/Array1-01/IS1005b/audio/IS1005b.Array1-01.wav\n",
      "Already mono: .data/Array1-01/TS3009d/audio/TS3009d.Array1-01.wav\n",
      "Already mono: .data/Array1-01/ES2004c/audio/ES2004c.Array1-01.wav\n",
      "Already mono: .data/Array1-01/TS3005a/audio/TS3005a.Array1-01.wav\n",
      "Already mono: .data/Array1-01/ES2008a/audio/ES2008a.Array1-01.wav\n",
      "Already mono: .data/Array1-01/EN2009d/audio/EN2009d.Array1-01.wav\n",
      "Already mono: .data/Array1-01/ES2013c/audio/ES2013c.Array1-01.wav\n",
      "Already mono: .data/Array1-01/ES2003a/audio/ES2003a.Array1-01.wav\n",
      "Already mono: .data/Array1-01/TS3008c/audio/TS3008c.Array1-01.wav\n",
      "Already mono: .data/Array1-01/EN2009b/audio/EN2009b.Array1-01.wav\n",
      "Already mono: .data/Array1-01/EN2001a/audio/EN2001a.Array1-01.wav\n",
      "Already mono: .data/Array1-01/IS1003c/audio/IS1003c.Array1-01.wav\n",
      "Already mono: .data/Array1-01/ES2013b/audio/ES2013b.Array1-01.wav\n",
      "Already mono: .data/Array1-01/TS3004c/audio/TS3004c.Array1-01.wav\n",
      "Already mono: .data/Array1-01/ES2006b/audio/ES2006b.Array1-01.wav\n",
      "Already mono: .data/Array1-01/IS1000c/audio/IS1000c.Array1-01.wav\n",
      "Already mono: .data/Array1-01/ES2006a/audio/ES2006a.Array1-01.wav\n",
      "Already mono: .data/Array1-01/IS1001d/audio/IS1001d.Array1-01.wav\n",
      "Already mono: .data/Array1-01/EN2001d/audio/EN2001d.Array1-01.wav\n",
      "Already mono: .data/Array1-01/IS1008a/audio/IS1008a.Array1-01.wav\n",
      "Already mono: .data/Array1-01/TS3003a/audio/TS3003a.Array1-01.wav\n",
      "Already mono: .data/Array1-01/ES2003c/audio/ES2003c.Array1-01.wav\n",
      "Already mono: .data/Array1-01/EN2006b/audio/EN2006b.Array1-01.wav\n",
      "Already mono: .data/Array1-01/ES2012a/audio/ES2012a.Array1-01.wav\n",
      "Already mono: .data/Array1-01/IS1006a/audio/IS1006a.Array1-01.wav\n",
      "Already mono: .data/Array1-01/ES2004a/audio/ES2004a.Array1-01.wav\n",
      "Already mono: .data/Array1-01/ES2011b/audio/ES2011b.Array1-01.wav\n",
      "Already mono: .data/Array1-01/TS3009b/audio/TS3009b.Array1-01.wav\n",
      "Already mono: .data/Array1-01/ES2015a/audio/ES2015a.Array1-01.wav\n",
      "Already mono: .data/Array1-01/ES2009b/audio/ES2009b.Array1-01.wav\n",
      "Already mono: .data/Array1-01/IS1007c/audio/IS1007c.Array1-01.wav\n",
      "Already mono: .data/Array1-01/IS1006b/audio/IS1006b.Array1-01.wav\n",
      "Already mono: .data/Array1-01/ES2007b/audio/ES2007b.Array1-01.wav\n",
      "Already mono: .data/Array1-01/ES2008b/audio/ES2008b.Array1-01.wav\n",
      "Already mono: .data/Array1-01/EN2001e/audio/EN2001e.Array1-01.wav\n",
      "Already mono: .data/Array1-01/IS1002c/audio/IS1002c.Array1-01.wav\n",
      "Already mono: .data/Array1-01/TS3012c/audio/TS3012c.Array1-01.wav\n",
      "Already mono: .data/Array1-01/ES2002d/audio/ES2002d.Array1-01.wav\n",
      "Already mono: .data/Array1-01/EN2002a/audio/EN2002a.Array1-01.wav\n",
      "Already mono: .data/Array1-01/IB4010/audio/IB4010.Array1-01.wav\n",
      "Already mono: .data/Array1-01/TS3007c/audio/TS3007c.Array1-01.wav\n",
      "Already mono: .data/Array1-01/EN2002d/audio/EN2002d.Array1-01.wav\n",
      "Already mono: .data/Array1-01/IN1008/audio/IN1008.Array1-01.wav\n",
      "Already mono: .data/Array1-01/IS1005a/audio/IS1005a.Array1-01.wav\n",
      "Already mono: .data/Array1-01/IS1001a/audio/IS1001a.Array1-01.wav\n",
      "Already mono: .data/Array1-01/TS3011a/audio/TS3011a.Array1-01.wav\n",
      "Already mono: .data/Array1-01/IS1003d/audio/IS1003d.Array1-01.wav\n",
      "Already mono: .data/Array1-01/ES2010b/audio/ES2010b.Array1-01.wav\n",
      "Already mono: .data/Array1-01/ES2009d/audio/ES2009d.Array1-01.wav\n",
      "Already mono: .data/Array1-01/ES2004d/audio/ES2004d.Array1-01.wav\n",
      "Already mono: .data/Array1-01/ES2016b/audio/ES2016b.Array1-01.wav\n",
      "Already mono: .data/Array1-01/ES2015c/audio/ES2015c.Array1-01.wav\n",
      "Already mono: .data/Array1-01/ES2004b/audio/ES2004b.Array1-01.wav\n",
      "Already mono: .data/Array1-01/ES2003d/audio/ES2003d.Array1-01.wav\n",
      "Already mono: .data/Array1-01/IS1000d/audio/IS1000d.Array1-01.wav\n",
      "Already mono: .data/Array1-01/IS1008d/audio/IS1008d.Array1-01.wav\n",
      "Already mono: .data/Array1-01/TS3008a/audio/TS3008a.Array1-01.wav\n",
      "Already mono: .data/Array1-01/TS3010b/audio/TS3010b.Array1-01.wav\n",
      "Already mono: .data/Array1-01/TS3006d/audio/TS3006d.Array1-01.wav\n",
      "Already mono: .data/Array1-01/IB4003/audio/IB4003.Array1-01.wav\n",
      "Already mono: .data/Array1-01/EN2006a/audio/EN2006a.Array1-01.wav\n",
      "Already mono: .data/Array1-01/TS3003b/audio/TS3003b.Array1-01.wav\n",
      "Already mono: .data/Array1-01/TS3004b/audio/TS3004b.Array1-01.wav\n",
      "Already mono: .data/Array1-01/IS1007a/audio/IS1007a.Array1-01.wav\n",
      "Already mono: .data/Array1-01/ES2003b/audio/ES2003b.Array1-01.wav\n",
      "Already mono: .data/Array1-01/IN1007/audio/IN1007.Array1-01.wav\n",
      "Already mono: .data/Array1-01/EN2002c/audio/EN2002c.Array1-01.wav\n",
      "Already mono: .data/Array1-01/IB4002/audio/IB4002.Array1-01.wav\n",
      "Already mono: .data/Array1-01/ES2002c/audio/ES2002c.Array1-01.wav\n",
      "Already mono: .data/Array1-01/EN2003a/audio/EN2003a.Array1-01.wav\n",
      "Already mono: .data/Array1-01/IS1003a/audio/IS1003a.Array1-01.wav\n",
      "Already mono: .data/Array1-01/EN2002b/audio/EN2002b.Array1-01.wav\n",
      "Already mono: .data/Array1-01/TS3012d/audio/TS3012d.Array1-01.wav\n",
      "Already mono: .data/Array1-01/IB4011/audio/IB4011.Array1-01.wav\n",
      "Already mono: .data/Array1-01/TS3009a/audio/TS3009a.Array1-01.wav\n",
      "Already mono: .data/Array1-01/IS1004c/audio/IS1004c.Array1-01.wav\n",
      "Already mono: .data/Array1-01/TS3004a/audio/TS3004a.Array1-01.wav\n",
      "Already mono: .data/Array1-01/ES2016c/audio/ES2016c.Array1-01.wav\n",
      "Already mono: .data/Array1-01/IN1005/audio/IN1005.Array1-01.wav\n",
      "Already mono: .data/Array1-01/IS1007b/audio/IS1007b.Array1-01.wav\n",
      "Already mono: .data/Array1-01/ES2014c/audio/ES2014c.Array1-01.wav\n",
      "Already mono: .data/Array1-01/ES2009a/audio/ES2009a.Array1-01.wav\n",
      "Already mono: .data/Array1-01/TS3011b/audio/TS3011b.Array1-01.wav\n",
      "Already mono: .data/Array1-01/ES2012b/audio/ES2012b.Array1-01.wav\n",
      "Already mono: .data/Array1-01/IS1002d/audio/IS1002d.Array1-01.wav\n"
     ]
    }
   ],
   "execution_count": 18
  },
  {
   "metadata": {},
   "cell_type": "markdown",
   "source": "## Random 10 Sample with 60 Second",
   "id": "fb696588e0958628"
  },
  {
   "metadata": {
    "ExecuteTime": {
     "end_time": "2025-02-14T16:36:12.094448Z",
     "start_time": "2025-02-14T16:36:12.087162Z"
    }
   },
   "cell_type": "code",
   "source": "create_manifest_with_random_n_sample()",
   "id": "a4d68b5635de1250",
   "outputs": [
    {
     "name": "stdout",
     "output_type": "stream",
     "text": [
      "Manifest created with 10 entries: .data/manifest.json\n"
     ]
    }
   ],
   "execution_count": 19
  },
  {
   "metadata": {},
   "cell_type": "markdown",
   "source": "## Diarization `MSDD + Titanet`",
   "id": "aa359ecafa5b7308"
  },
  {
   "metadata": {
    "ExecuteTime": {
     "end_time": "2025-02-14T16:47:20.160294Z",
     "start_time": "2025-02-14T16:36:33.149732Z"
    }
   },
   "cell_type": "code",
   "source": [
    "diar_model = NeuralDiarizer(cfg=cfg)\n",
    "diar_model.diarize()"
   ],
   "id": "f85bfbcfe021dd5d",
   "outputs": [
    {
     "name": "stdout",
     "output_type": "stream",
     "text": [
      "[NeMo I 2025-02-14 19:36:33 nemo_logging:393] Loading pretrained diar_msdd_telephonic model from NGC\n",
      "[NeMo I 2025-02-14 19:36:33 nemo_logging:393] Found existing object /home/bunyamin/.cache/torch/NeMo/NeMo_2.1.0/diar_msdd_telephonic/3c3697a0a46f945574fa407149975a13/diar_msdd_telephonic.nemo.\n",
      "[NeMo I 2025-02-14 19:36:33 nemo_logging:393] Re-using file from: /home/bunyamin/.cache/torch/NeMo/NeMo_2.1.0/diar_msdd_telephonic/3c3697a0a46f945574fa407149975a13/diar_msdd_telephonic.nemo\n",
      "[NeMo I 2025-02-14 19:36:33 nemo_logging:393] Instantiating model from pre-trained checkpoint\n"
     ]
    },
    {
     "name": "stderr",
     "output_type": "stream",
     "text": [
      "[NeMo W 2025-02-14 19:36:34 nemo_logging:405] If you intend to do training or fine-tuning, please call the ModelPT.setup_training_data() method and provide a valid configuration file to setup the train data loader.\n",
      "    Train config : \n",
      "    manifest_filepath: null\n",
      "    emb_dir: null\n",
      "    sample_rate: 16000\n",
      "    num_spks: 2\n",
      "    soft_label_thres: 0.5\n",
      "    labels: null\n",
      "    batch_size: 15\n",
      "    emb_batch_size: 0\n",
      "    shuffle: true\n",
      "    \n",
      "[NeMo W 2025-02-14 19:36:34 nemo_logging:405] If you intend to do validation, please call the ModelPT.setup_validation_data() or ModelPT.setup_multiple_validation_data() method and provide a valid configuration file to setup the validation data loader(s). \n",
      "    Validation config : \n",
      "    manifest_filepath: null\n",
      "    emb_dir: null\n",
      "    sample_rate: 16000\n",
      "    num_spks: 2\n",
      "    soft_label_thres: 0.5\n",
      "    labels: null\n",
      "    batch_size: 15\n",
      "    emb_batch_size: 0\n",
      "    shuffle: false\n",
      "    \n",
      "[NeMo W 2025-02-14 19:36:34 nemo_logging:405] Please call the ModelPT.setup_test_data() or ModelPT.setup_multiple_test_data() method and provide a valid configuration file to setup the test data loader(s).\n",
      "    Test config : \n",
      "    manifest_filepath: null\n",
      "    emb_dir: null\n",
      "    sample_rate: 16000\n",
      "    num_spks: 2\n",
      "    soft_label_thres: 0.5\n",
      "    labels: null\n",
      "    batch_size: 15\n",
      "    emb_batch_size: 0\n",
      "    shuffle: false\n",
      "    seq_eval_mode: false\n",
      "    \n"
     ]
    },
    {
     "name": "stdout",
     "output_type": "stream",
     "text": [
      "[NeMo I 2025-02-14 19:36:34 nemo_logging:393] PADDING: 16\n",
      "[NeMo I 2025-02-14 19:36:34 nemo_logging:393] PADDING: 16\n",
      "[NeMo I 2025-02-14 19:36:34 nemo_logging:393] Model EncDecDiarLabelModel was successfully restored from /home/bunyamin/.cache/torch/NeMo/NeMo_2.1.0/diar_msdd_telephonic/3c3697a0a46f945574fa407149975a13/diar_msdd_telephonic.nemo.\n",
      "[NeMo I 2025-02-14 19:36:34 nemo_logging:393] PADDING: 16\n",
      "[NeMo I 2025-02-14 19:36:35 nemo_logging:393] Loading pretrained vad_multilingual_marblenet model from NGC\n",
      "[NeMo I 2025-02-14 19:36:35 nemo_logging:393] Found existing object /home/bunyamin/.cache/torch/NeMo/NeMo_2.1.0/vad_multilingual_marblenet/670f425c7f186060b7a7268ba6dfacb2/vad_multilingual_marblenet.nemo.\n",
      "[NeMo I 2025-02-14 19:36:35 nemo_logging:393] Re-using file from: /home/bunyamin/.cache/torch/NeMo/NeMo_2.1.0/vad_multilingual_marblenet/670f425c7f186060b7a7268ba6dfacb2/vad_multilingual_marblenet.nemo\n",
      "[NeMo I 2025-02-14 19:36:35 nemo_logging:393] Instantiating model from pre-trained checkpoint\n"
     ]
    },
    {
     "name": "stderr",
     "output_type": "stream",
     "text": [
      "[NeMo W 2025-02-14 19:36:35 nemo_logging:405] If you intend to do training or fine-tuning, please call the ModelPT.setup_training_data() method and provide a valid configuration file to setup the train data loader.\n",
      "    Train config : \n",
      "    manifest_filepath: /manifests/ami_train_0.63.json,/manifests/freesound_background_train.json,/manifests/freesound_laughter_train.json,/manifests/fisher_2004_background.json,/manifests/fisher_2004_speech_sampled.json,/manifests/google_train_manifest.json,/manifests/icsi_all_0.63.json,/manifests/musan_freesound_train.json,/manifests/musan_music_train.json,/manifests/musan_soundbible_train.json,/manifests/mandarin_train_sample.json,/manifests/german_train_sample.json,/manifests/spanish_train_sample.json,/manifests/french_train_sample.json,/manifests/russian_train_sample.json\n",
      "    sample_rate: 16000\n",
      "    labels:\n",
      "    - background\n",
      "    - speech\n",
      "    batch_size: 256\n",
      "    shuffle: true\n",
      "    is_tarred: false\n",
      "    tarred_audio_filepaths: null\n",
      "    tarred_shard_strategy: scatter\n",
      "    augmentor:\n",
      "      shift:\n",
      "        prob: 0.5\n",
      "        min_shift_ms: -10.0\n",
      "        max_shift_ms: 10.0\n",
      "      white_noise:\n",
      "        prob: 0.5\n",
      "        min_level: -90\n",
      "        max_level: -46\n",
      "        norm: true\n",
      "      noise:\n",
      "        prob: 0.5\n",
      "        manifest_path: /manifests/noise_0_1_musan_fs.json\n",
      "        min_snr_db: 0\n",
      "        max_snr_db: 30\n",
      "        max_gain_db: 300.0\n",
      "        norm: true\n",
      "      gain:\n",
      "        prob: 0.5\n",
      "        min_gain_dbfs: -10.0\n",
      "        max_gain_dbfs: 10.0\n",
      "        norm: true\n",
      "    num_workers: 16\n",
      "    pin_memory: true\n",
      "    \n",
      "[NeMo W 2025-02-14 19:36:35 nemo_logging:405] If you intend to do validation, please call the ModelPT.setup_validation_data() or ModelPT.setup_multiple_validation_data() method and provide a valid configuration file to setup the validation data loader(s). \n",
      "    Validation config : \n",
      "    manifest_filepath: /manifests/ami_dev_0.63.json,/manifests/freesound_background_dev.json,/manifests/freesound_laughter_dev.json,/manifests/ch120_moved_0.63.json,/manifests/fisher_2005_500_speech_sampled.json,/manifests/google_dev_manifest.json,/manifests/musan_music_dev.json,/manifests/mandarin_dev.json,/manifests/german_dev.json,/manifests/spanish_dev.json,/manifests/french_dev.json,/manifests/russian_dev.json\n",
      "    sample_rate: 16000\n",
      "    labels:\n",
      "    - background\n",
      "    - speech\n",
      "    batch_size: 256\n",
      "    shuffle: false\n",
      "    val_loss_idx: 0\n",
      "    num_workers: 16\n",
      "    pin_memory: true\n",
      "    \n",
      "[NeMo W 2025-02-14 19:36:35 nemo_logging:405] Please call the ModelPT.setup_test_data() or ModelPT.setup_multiple_test_data() method and provide a valid configuration file to setup the test data loader(s).\n",
      "    Test config : \n",
      "    manifest_filepath: null\n",
      "    sample_rate: 16000\n",
      "    labels:\n",
      "    - background\n",
      "    - speech\n",
      "    batch_size: 128\n",
      "    shuffle: false\n",
      "    test_loss_idx: 0\n",
      "    \n"
     ]
    },
    {
     "name": "stdout",
     "output_type": "stream",
     "text": [
      "[NeMo I 2025-02-14 19:36:35 nemo_logging:393] PADDING: 16\n",
      "[NeMo I 2025-02-14 19:36:35 nemo_logging:393] Model EncDecClassificationModel was successfully restored from /home/bunyamin/.cache/torch/NeMo/NeMo_2.1.0/vad_multilingual_marblenet/670f425c7f186060b7a7268ba6dfacb2/vad_multilingual_marblenet.nemo.\n",
      "[NeMo I 2025-02-14 19:36:35 nemo_logging:393] Multiscale Weights: [1, 1, 1, 1, 1]\n",
      "[NeMo I 2025-02-14 19:36:35 nemo_logging:393] Clustering Parameters: {\n",
      "        \"oracle_num_speakers\": false,\n",
      "        \"max_num_speakers\": 8,\n",
      "        \"enhanced_count_thres\": 80,\n",
      "        \"max_rp_threshold\": 0.25,\n",
      "        \"sparse_search_volume\": 30,\n",
      "        \"maj_vote_spk_count\": false,\n",
      "        \"chunk_cluster_count\": 50,\n",
      "        \"embeddings_per_chunk\": 10000\n",
      "    }\n"
     ]
    },
    {
     "name": "stderr",
     "output_type": "stream",
     "text": [
      "[NeMo W 2025-02-14 19:36:35 nemo_logging:405] Deleting previous clustering diarizer outputs.\n"
     ]
    },
    {
     "name": "stdout",
     "output_type": "stream",
     "text": [
      "[NeMo I 2025-02-14 19:36:35 nemo_logging:393] Number of files to diarize: 10\n",
      "[NeMo I 2025-02-14 19:36:35 nemo_logging:393] Split long audio file to avoid CUDA memory issue\n"
     ]
    },
    {
     "name": "stderr",
     "output_type": "stream",
     "text": [
      "splitting manifest: 100%|██████████| 10/10 [00:00<00:00, 261.81it/s]"
     ]
    },
    {
     "name": "stdout",
     "output_type": "stream",
     "text": [
      "[NeMo I 2025-02-14 19:36:35 nemo_logging:393] The prepared manifest file exists. Overwriting!\n",
      "[NeMo I 2025-02-14 19:36:35 nemo_logging:393] Perform streaming frame-level VAD\n",
      "[NeMo I 2025-02-14 19:36:35 nemo_logging:393] Filtered duration for loading collection is  0.00 hours.\n",
      "[NeMo I 2025-02-14 19:36:35 nemo_logging:393] Dataset successfully loaded with 20 items and total duration provided from manifest is  0.17 hours.\n",
      "[NeMo I 2025-02-14 19:36:35 nemo_logging:393] # 20 files loaded accounting to # 1 labels\n"
     ]
    },
    {
     "name": "stderr",
     "output_type": "stream",
     "text": [
      "\n",
      "vad: 100%|██████████| 20/20 [00:01<00:00, 17.76it/s]"
     ]
    },
    {
     "name": "stdout",
     "output_type": "stream",
     "text": [
      "[NeMo I 2025-02-14 19:36:36 nemo_logging:393] Generating predictions with overlapping input segments\n"
     ]
    },
    {
     "name": "stderr",
     "output_type": "stream",
     "text": [
      "\n",
      "                                                                 "
     ]
    },
    {
     "name": "stdout",
     "output_type": "stream",
     "text": [
      "[NeMo I 2025-02-14 19:36:38 nemo_logging:393] Converting frame level prediction to speech/no-speech segment in start and end times format.\n"
     ]
    },
    {
     "name": "stderr",
     "output_type": "stream",
     "text": [
      "creating speech segments: 100%|██████████| 10/10 [00:00<00:00, 50.80it/s]\n"
     ]
    },
    {
     "name": "stdout",
     "output_type": "stream",
     "text": [
      "[NeMo I 2025-02-14 19:36:38 nemo_logging:393] Subsegmentation for embedding extraction: scale0, .data/speaker_outputs/subsegments_scale0.json\n",
      "[NeMo I 2025-02-14 19:36:38 nemo_logging:393] Extracting embeddings for Diarization\n",
      "[NeMo I 2025-02-14 19:36:38 nemo_logging:393] Filtered duration for loading collection is  0.00 hours.\n",
      "[NeMo I 2025-02-14 19:36:38 nemo_logging:393] Dataset successfully loaded with 286 items and total duration provided from manifest is  0.07 hours.\n",
      "[NeMo I 2025-02-14 19:36:38 nemo_logging:393] # 286 files loaded accounting to # 1 labels\n"
     ]
    },
    {
     "name": "stderr",
     "output_type": "stream",
     "text": [
      "[1/5] extract embeddings: 100%|██████████| 5/5 [02:10<00:00, 26.00s/it]"
     ]
    },
    {
     "name": "stdout",
     "output_type": "stream",
     "text": [
      "[NeMo I 2025-02-14 19:38:48 nemo_logging:393] Saved embedding files to .data/speaker_outputs/embeddings\n",
      "[NeMo I 2025-02-14 19:38:48 nemo_logging:393] Subsegmentation for embedding extraction: scale1, .data/speaker_outputs/subsegments_scale1.json\n",
      "[NeMo I 2025-02-14 19:38:48 nemo_logging:393] Extracting embeddings for Diarization\n",
      "[NeMo I 2025-02-14 19:38:48 nemo_logging:393] Filtered duration for loading collection is  0.00 hours.\n",
      "[NeMo I 2025-02-14 19:38:48 nemo_logging:393] Dataset successfully loaded with 318 items and total duration provided from manifest is  0.07 hours.\n",
      "[NeMo I 2025-02-14 19:38:48 nemo_logging:393] # 318 files loaded accounting to # 1 labels\n"
     ]
    },
    {
     "name": "stderr",
     "output_type": "stream",
     "text": [
      "\n",
      "[2/5] extract embeddings: 100%|██████████| 5/5 [02:23<00:00, 28.76s/it]"
     ]
    },
    {
     "name": "stdout",
     "output_type": "stream",
     "text": [
      "[NeMo I 2025-02-14 19:41:12 nemo_logging:393] Saved embedding files to .data/speaker_outputs/embeddings\n",
      "[NeMo I 2025-02-14 19:41:12 nemo_logging:393] Subsegmentation for embedding extraction: scale2, .data/speaker_outputs/subsegments_scale2.json\n",
      "[NeMo I 2025-02-14 19:41:12 nemo_logging:393] Extracting embeddings for Diarization\n",
      "[NeMo I 2025-02-14 19:41:12 nemo_logging:393] Filtered duration for loading collection is  0.00 hours.\n",
      "[NeMo I 2025-02-14 19:41:12 nemo_logging:393] Dataset successfully loaded with 377 items and total duration provided from manifest is  0.08 hours.\n",
      "[NeMo I 2025-02-14 19:41:12 nemo_logging:393] # 377 files loaded accounting to # 1 labels\n"
     ]
    },
    {
     "name": "stderr",
     "output_type": "stream",
     "text": [
      "\n",
      "[3/5] extract embeddings: 100%|██████████| 6/6 [01:55<00:00, 19.20s/it]"
     ]
    },
    {
     "name": "stdout",
     "output_type": "stream",
     "text": [
      "[NeMo I 2025-02-14 19:43:07 nemo_logging:393] Saved embedding files to .data/speaker_outputs/embeddings\n",
      "[NeMo I 2025-02-14 19:43:07 nemo_logging:393] Subsegmentation for embedding extraction: scale3, .data/speaker_outputs/subsegments_scale3.json\n",
      "[NeMo I 2025-02-14 19:43:07 nemo_logging:393] Extracting embeddings for Diarization\n",
      "[NeMo I 2025-02-14 19:43:07 nemo_logging:393] Filtered duration for loading collection is  0.00 hours.\n",
      "[NeMo I 2025-02-14 19:43:07 nemo_logging:393] Dataset successfully loaded with 479 items and total duration provided from manifest is  0.08 hours.\n",
      "[NeMo I 2025-02-14 19:43:07 nemo_logging:393] # 479 files loaded accounting to # 1 labels\n"
     ]
    },
    {
     "name": "stderr",
     "output_type": "stream",
     "text": [
      "\n",
      "[4/5] extract embeddings: 100%|██████████| 8/8 [01:47<00:00, 13.39s/it]"
     ]
    },
    {
     "name": "stdout",
     "output_type": "stream",
     "text": [
      "[NeMo I 2025-02-14 19:44:54 nemo_logging:393] Saved embedding files to .data/speaker_outputs/embeddings\n",
      "[NeMo I 2025-02-14 19:44:54 nemo_logging:393] Subsegmentation for embedding extraction: scale4, .data/speaker_outputs/subsegments_scale4.json\n",
      "[NeMo I 2025-02-14 19:44:54 nemo_logging:393] Extracting embeddings for Diarization\n",
      "[NeMo I 2025-02-14 19:44:54 nemo_logging:393] Filtered duration for loading collection is  0.00 hours.\n",
      "[NeMo I 2025-02-14 19:44:54 nemo_logging:393] Dataset successfully loaded with 717 items and total duration provided from manifest is  0.09 hours.\n",
      "[NeMo I 2025-02-14 19:44:54 nemo_logging:393] # 717 files loaded accounting to # 1 labels\n"
     ]
    },
    {
     "name": "stderr",
     "output_type": "stream",
     "text": [
      "\n",
      "[5/5] extract embeddings: 100%|██████████| 12/12 [02:14<00:00, 11.21s/it]"
     ]
    },
    {
     "name": "stdout",
     "output_type": "stream",
     "text": [
      "[NeMo I 2025-02-14 19:47:09 nemo_logging:393] Saved embedding files to .data/speaker_outputs/embeddings\n"
     ]
    },
    {
     "name": "stderr",
     "output_type": "stream",
     "text": [
      "\n",
      "[NeMo W 2025-02-14 19:47:09 nemo_logging:405] cuda=False, using CPU for eigen decomposition. This might slow down the clustering process.\n",
      "clustering: 100%|██████████| 10/10 [00:02<00:00,  3.96it/s]"
     ]
    },
    {
     "name": "stdout",
     "output_type": "stream",
     "text": [
      "[NeMo I 2025-02-14 19:47:12 nemo_logging:393] Outputs are saved in /home/bunyamin/Desktop/BE_PC/Work/2.Project/7.WavLMMSDD/Dev/WavLMMSDD/notebook/.data directory\n",
      "[NeMo I 2025-02-14 19:47:12 nemo_logging:393] Wrong Spk. Count with uniq_id:....Array1-01, Ref: 4, Hyp: 1\n"
     ]
    },
    {
     "name": "stderr",
     "output_type": "stream",
     "text": [
      "\n",
      "[NeMo W 2025-02-14 19:47:12 nemo_logging:405] /home/bunyamin/anaconda3/envs/WavLMMSDD/lib/python3.12/site-packages/pyannote/metrics/utils.py:200: UserWarning: 'uem' was approximated by the union of 'reference' and 'hypothesis' extents.\n",
      "      warnings.warn(\n",
      "    \n"
     ]
    },
    {
     "name": "stdout",
     "output_type": "stream",
     "text": [
      "[NeMo I 2025-02-14 19:47:12 nemo_logging:393] Wrong Spk. Count with uniq_id:....Array1-01, Ref: 4, Hyp: 1\n",
      "[NeMo I 2025-02-14 19:47:12 nemo_logging:393] Wrong Spk. Count with uniq_id:....Array1-01, Ref: 4, Hyp: 1\n",
      "[NeMo I 2025-02-14 19:47:12 nemo_logging:393] Wrong Spk. Count with uniq_id:....Array1-01, Ref: 4, Hyp: 1\n",
      "[NeMo I 2025-02-14 19:47:12 nemo_logging:393] Wrong Spk. Count with uniq_id:....Array1-01, Ref: 4, Hyp: 1\n",
      "[NeMo I 2025-02-14 19:47:12 nemo_logging:393] Wrong Spk. Count with uniq_id:....Array1-01, Ref: 4, Hyp: 1\n",
      "[NeMo I 2025-02-14 19:47:12 nemo_logging:393] Wrong Spk. Count with uniq_id:....Array1-01, Ref: 5, Hyp: 1\n",
      "[NeMo I 2025-02-14 19:47:13 nemo_logging:393] Wrong Spk. Count with uniq_id:....Array1-01, Ref: 4, Hyp: 1\n",
      "[NeMo I 2025-02-14 19:47:13 nemo_logging:393] Wrong Spk. Count with uniq_id:....Array1-01, Ref: 4, Hyp: 1\n",
      "[NeMo I 2025-02-14 19:47:13 nemo_logging:393] Wrong Spk. Count with uniq_id:....Array1-01, Ref: 4, Hyp: 1\n",
      "[NeMo I 2025-02-14 19:47:13 nemo_logging:393] \n",
      "                      diarization error rate      total     correct            \\\n",
      "                                           %                                %   \n",
      "    item                                                                        \n",
      "    TS3009c.Array1-01             100.443488   1162.602    4.373999  0.376225   \n",
      "    IS1000b.Array1-01             100.721019   1442.403    0.000000  0.000000   \n",
      "    IS1004a.Array1-01              97.567314    527.565   14.103999  2.673414   \n",
      "    IS1008a.Array1-01              98.705974    659.956    9.250004  1.401609   \n",
      "    ES2005c.Array1-01              99.268200   1355.018   12.476018  0.920727   \n",
      "    TS3010d.Array1-01              98.995990    911.545   10.282005  1.127976   \n",
      "    EN2001e.Array1-01              98.667483   2690.847   37.725994  1.402012   \n",
      "    TS3004d.Array1-01              99.860695   1164.349    2.211994  0.189977   \n",
      "    ES2009c.Array1-01              98.347669   1409.524   24.530002  1.740304   \n",
      "    IS1002c.Array1-01              99.615681   1395.195    5.452002  0.390770   \n",
      "    TOTAL                          99.284409  12719.004  120.406017  0.946662   \n",
      "    \n",
      "                      false alarm           missed detection              \\\n",
      "                                          %                            %   \n",
      "    item                                                                   \n",
      "    TS3009c.Array1-01    9.529998  0.819713      1158.228001   99.623775   \n",
      "    IS1000b.Array1-01   10.399999  0.721019      1442.403000  100.000000   \n",
      "    IS1004a.Array1-01    1.270000  0.240729       512.865001   97.213614   \n",
      "    IS1008a.Array1-01    0.709999  0.107583       649.729996   98.450502   \n",
      "    ES2005c.Array1-01    2.559998  0.188927      1342.541982   99.079273   \n",
      "    TS3010d.Array1-01    1.130002  0.123966       896.127999   98.308696   \n",
      "    EN2001e.Array1-01    1.870000  0.069495      2652.517006   98.575542   \n",
      "    TS3004d.Array1-01    0.590000  0.050672      1160.651005   99.682398   \n",
      "    ES2009c.Array1-01    1.239999  0.087973      1384.695997   98.238554   \n",
      "    IS1002c.Array1-01    0.090000  0.006451      1383.057994   99.130085   \n",
      "    TOTAL               29.389995  0.231072     12582.817980   98.929271   \n",
      "    \n",
      "                       confusion            \n",
      "                                         %  \n",
      "    item                                    \n",
      "    TS3009c.Array1-01   0.000000  0.000000  \n",
      "    IS1000b.Array1-01   0.000000  0.000000  \n",
      "    IS1004a.Array1-01   0.596000  0.112972  \n",
      "    IS1008a.Array1-01   0.976000  0.147889  \n",
      "    ES2005c.Array1-01   0.000000  0.000000  \n",
      "    TS3010d.Array1-01   5.134996  0.563329  \n",
      "    EN2001e.Array1-01   0.604000  0.022446  \n",
      "    TS3004d.Array1-01   1.486001  0.127625  \n",
      "    ES2009c.Array1-01   0.298001  0.021142  \n",
      "    IS1002c.Array1-01   6.685005  0.479145  \n",
      "    TOTAL              15.780003  0.124066  \n",
      "[NeMo I 2025-02-14 19:47:13 nemo_logging:393] Cumulative Results for collar 0.25 sec and ignore_overlap True: \n",
      "    | FA: 0.0023 | MISS: 0.9893 | CER: 0.0012 | DER: 0.9928 | Spk. Count Acc. 0.0000\n",
      "    \n",
      "[NeMo I 2025-02-14 19:47:13 nemo_logging:393] Loading embedding pickle file of scale:0 at .data/speaker_outputs/embeddings/subsegments_scale0_embeddings.pkl\n",
      "[NeMo I 2025-02-14 19:47:13 nemo_logging:393] Loading embedding pickle file of scale:1 at .data/speaker_outputs/embeddings/subsegments_scale1_embeddings.pkl\n",
      "[NeMo I 2025-02-14 19:47:13 nemo_logging:393] Loading embedding pickle file of scale:2 at .data/speaker_outputs/embeddings/subsegments_scale2_embeddings.pkl\n",
      "[NeMo I 2025-02-14 19:47:13 nemo_logging:393] Loading embedding pickle file of scale:3 at .data/speaker_outputs/embeddings/subsegments_scale3_embeddings.pkl\n",
      "[NeMo I 2025-02-14 19:47:13 nemo_logging:393] Loading embedding pickle file of scale:4 at .data/speaker_outputs/embeddings/subsegments_scale4_embeddings.pkl\n",
      "[NeMo I 2025-02-14 19:47:13 nemo_logging:393] Loading cluster label file from .data/speaker_outputs/subsegments_scale4_cluster.label\n",
      "[NeMo I 2025-02-14 19:47:14 nemo_logging:393] Filtered duration for loading collection is 0.000000.\n",
      "[NeMo I 2025-02-14 19:47:14 nemo_logging:393] Total 10 session files loaded accounting to # 10 audio clips\n"
     ]
    },
    {
     "name": "stderr",
     "output_type": "stream",
     "text": [
      "100%|██████████| 1/1 [00:00<00:00,  6.41it/s]"
     ]
    },
    {
     "name": "stdout",
     "output_type": "stream",
     "text": [
      "[NeMo I 2025-02-14 19:47:14 nemo_logging:393]      [Threshold: 0.7000] [use_clus_as_main=False] [diar_window=50]\n",
      "[NeMo I 2025-02-14 19:47:14 nemo_logging:393] Number of files to diarize: 10\n",
      "[NeMo I 2025-02-14 19:47:14 nemo_logging:393] Number of files to diarize: 10\n"
     ]
    },
    {
     "name": "stderr",
     "output_type": "stream",
     "text": [
      "\n"
     ]
    },
    {
     "name": "stdout",
     "output_type": "stream",
     "text": [
      "[NeMo I 2025-02-14 19:47:14 nemo_logging:393] Wrong Spk. Count with uniq_id:....Array1-01, Ref: 4, Hyp: 1\n"
     ]
    },
    {
     "name": "stderr",
     "output_type": "stream",
     "text": [
      "[NeMo W 2025-02-14 19:47:14 nemo_logging:405] /home/bunyamin/anaconda3/envs/WavLMMSDD/lib/python3.12/site-packages/pyannote/metrics/utils.py:200: UserWarning: 'uem' was approximated by the union of 'reference' and 'hypothesis' extents.\n",
      "      warnings.warn(\n",
      "    \n"
     ]
    },
    {
     "name": "stdout",
     "output_type": "stream",
     "text": [
      "[NeMo I 2025-02-14 19:47:14 nemo_logging:393] Wrong Spk. Count with uniq_id:....Array1-01, Ref: 4, Hyp: 1\n",
      "[NeMo I 2025-02-14 19:47:14 nemo_logging:393] Wrong Spk. Count with uniq_id:....Array1-01, Ref: 4, Hyp: 1\n",
      "[NeMo I 2025-02-14 19:47:14 nemo_logging:393] Wrong Spk. Count with uniq_id:....Array1-01, Ref: 4, Hyp: 1\n",
      "[NeMo I 2025-02-14 19:47:14 nemo_logging:393] Wrong Spk. Count with uniq_id:....Array1-01, Ref: 4, Hyp: 1\n",
      "[NeMo I 2025-02-14 19:47:15 nemo_logging:393] Wrong Spk. Count with uniq_id:....Array1-01, Ref: 4, Hyp: 1\n",
      "[NeMo I 2025-02-14 19:47:15 nemo_logging:393] Wrong Spk. Count with uniq_id:....Array1-01, Ref: 5, Hyp: 1\n",
      "[NeMo I 2025-02-14 19:47:15 nemo_logging:393] Wrong Spk. Count with uniq_id:....Array1-01, Ref: 4, Hyp: 1\n",
      "[NeMo I 2025-02-14 19:47:15 nemo_logging:393] Wrong Spk. Count with uniq_id:....Array1-01, Ref: 4, Hyp: 1\n",
      "[NeMo I 2025-02-14 19:47:16 nemo_logging:393] Wrong Spk. Count with uniq_id:....Array1-01, Ref: 4, Hyp: 1\n",
      "[NeMo I 2025-02-14 19:47:16 nemo_logging:393] \n",
      "                      diarization error rate      total  correct            \\\n",
      "                                           %                             %   \n",
      "    item                                                                     \n",
      "    TS3009c.Array1-01             100.443488   1162.602    4.374  0.376225   \n",
      "    IS1000b.Array1-01             100.721019   1442.403    0.000  0.000000   \n",
      "    IS1004a.Array1-01              97.567314    527.565   14.104  2.673415   \n",
      "    IS1008a.Array1-01              98.705974    659.956    9.250  1.401609   \n",
      "    ES2005c.Array1-01              99.268202   1355.018   12.476  0.920726   \n",
      "    TS3010d.Array1-01              98.995990    911.545   10.282  1.127975   \n",
      "    EN2001e.Array1-01              98.667483   2690.847   37.726  1.402012   \n",
      "    TS3004d.Array1-01              99.860695   1164.349    2.212  0.189977   \n",
      "    ES2009c.Array1-01              98.347669   1409.524   24.530  1.740304   \n",
      "    IS1002c.Array1-01              99.615681   1395.195    5.452  0.390770   \n",
      "    TOTAL                          99.284409  12719.004  120.406  0.946662   \n",
      "    \n",
      "                      false alarm           missed detection              \\\n",
      "                                          %                            %   \n",
      "    item                                                                   \n",
      "    TS3009c.Array1-01        9.53  0.819713         1158.228   99.623775   \n",
      "    IS1000b.Array1-01       10.40  0.721019         1442.403  100.000000   \n",
      "    IS1004a.Array1-01        1.27  0.240729          512.865   97.213613   \n",
      "    IS1008a.Array1-01        0.71  0.107583          649.730   98.450503   \n",
      "    ES2005c.Array1-01        2.56  0.188927         1342.542   99.079274   \n",
      "    TS3010d.Array1-01        1.13  0.123965          896.128   98.308696   \n",
      "    EN2001e.Array1-01        1.87  0.069495         2652.517   98.575541   \n",
      "    TS3004d.Array1-01        0.59  0.050672         1160.651   99.682398   \n",
      "    ES2009c.Array1-01        1.24  0.087973         1384.696   98.238554   \n",
      "    IS1002c.Array1-01        0.09  0.006451         1383.058   99.130086   \n",
      "    TOTAL                   29.39  0.231072        12582.818   98.929272   \n",
      "    \n",
      "                      confusion            \n",
      "                                        %  \n",
      "    item                                   \n",
      "    TS3009c.Array1-01     0.000  0.000000  \n",
      "    IS1000b.Array1-01     0.000  0.000000  \n",
      "    IS1004a.Array1-01     0.596  0.112972  \n",
      "    IS1008a.Array1-01     0.976  0.147889  \n",
      "    ES2005c.Array1-01     0.000  0.000000  \n",
      "    TS3010d.Array1-01     5.135  0.563329  \n",
      "    EN2001e.Array1-01     0.604  0.022446  \n",
      "    TS3004d.Array1-01     1.486  0.127625  \n",
      "    ES2009c.Array1-01     0.298  0.021142  \n",
      "    IS1002c.Array1-01     6.685  0.479144  \n",
      "    TOTAL                15.780  0.124066  \n",
      "[NeMo I 2025-02-14 19:47:16 nemo_logging:393] Cumulative Results for collar 0.25 sec and ignore_overlap True: \n",
      "    | FA: 0.0023 | MISS: 0.9893 | CER: 0.0012 | DER: 0.9928 | Spk. Count Acc. 0.0000\n",
      "    \n",
      "[NeMo I 2025-02-14 19:47:16 nemo_logging:393] Number of files to diarize: 10\n",
      "[NeMo I 2025-02-14 19:47:16 nemo_logging:393] Wrong Spk. Count with uniq_id:....Array1-01, Ref: 4, Hyp: 1\n"
     ]
    },
    {
     "name": "stderr",
     "output_type": "stream",
     "text": [
      "[NeMo W 2025-02-14 19:47:16 nemo_logging:405] /home/bunyamin/anaconda3/envs/WavLMMSDD/lib/python3.12/site-packages/pyannote/metrics/utils.py:200: UserWarning: 'uem' was approximated by the union of 'reference' and 'hypothesis' extents.\n",
      "      warnings.warn(\n",
      "    \n"
     ]
    },
    {
     "name": "stdout",
     "output_type": "stream",
     "text": [
      "[NeMo I 2025-02-14 19:47:16 nemo_logging:393] Wrong Spk. Count with uniq_id:....Array1-01, Ref: 4, Hyp: 1\n",
      "[NeMo I 2025-02-14 19:47:17 nemo_logging:393] Wrong Spk. Count with uniq_id:....Array1-01, Ref: 4, Hyp: 1\n",
      "[NeMo I 2025-02-14 19:47:17 nemo_logging:393] Wrong Spk. Count with uniq_id:....Array1-01, Ref: 4, Hyp: 1\n",
      "[NeMo I 2025-02-14 19:47:17 nemo_logging:393] Wrong Spk. Count with uniq_id:....Array1-01, Ref: 4, Hyp: 1\n",
      "[NeMo I 2025-02-14 19:47:17 nemo_logging:393] Wrong Spk. Count with uniq_id:....Array1-01, Ref: 4, Hyp: 1\n",
      "[NeMo I 2025-02-14 19:47:17 nemo_logging:393] Wrong Spk. Count with uniq_id:....Array1-01, Ref: 5, Hyp: 1\n",
      "[NeMo I 2025-02-14 19:47:18 nemo_logging:393] Wrong Spk. Count with uniq_id:....Array1-01, Ref: 4, Hyp: 1\n",
      "[NeMo I 2025-02-14 19:47:18 nemo_logging:393] Wrong Spk. Count with uniq_id:....Array1-01, Ref: 4, Hyp: 1\n",
      "[NeMo I 2025-02-14 19:47:18 nemo_logging:393] Wrong Spk. Count with uniq_id:....Array1-01, Ref: 4, Hyp: 1\n",
      "[NeMo I 2025-02-14 19:47:18 nemo_logging:393] \n",
      "                      diarization error rate      total  correct            \\\n",
      "                                           %                             %   \n",
      "    item                                                                     \n",
      "    TS3009c.Array1-01             100.207739   1989.512    5.397  0.271273   \n",
      "    IS1000b.Array1-01             100.616522   1686.883    0.000  0.000000   \n",
      "    IS1004a.Array1-01              97.620815    578.013   15.022  2.598903   \n",
      "    IS1008a.Array1-01              98.788999    705.202    9.250  1.311681   \n",
      "    ES2005c.Array1-01              99.460095   1897.742   12.806  0.674802   \n",
      "    TS3010d.Array1-01              99.093515   1039.951   10.557  1.015144   \n",
      "    EN2001e.Array1-01              98.915904   3366.953   38.371  1.139636   \n",
      "    TS3004d.Array1-01              99.897072   1575.855    2.212  0.140368   \n",
      "    ES2009c.Array1-01              98.553080   1611.423   24.556  1.523871   \n",
      "    IS1002c.Array1-01              99.578582   1650.380    7.045  0.426871   \n",
      "    TOTAL                          99.404878  16101.914  125.216  0.777647   \n",
      "    \n",
      "                      false alarm           missed detection              \\\n",
      "                                          %                            %   \n",
      "    item                                                                   \n",
      "    TS3009c.Array1-01        9.53  0.479012         1984.115   99.728727   \n",
      "    IS1000b.Array1-01       10.40  0.616522         1686.883  100.000000   \n",
      "    IS1004a.Array1-01        1.27  0.219718          562.395   97.297985   \n",
      "    IS1008a.Array1-01        0.71  0.100680          694.976   98.549919   \n",
      "    ES2005c.Array1-01        2.56  0.134897         1884.936   99.325198   \n",
      "    TS3010d.Array1-01        1.13  0.108659         1023.928   98.459254   \n",
      "    EN2001e.Array1-01        1.87  0.055540         3327.978   98.842425   \n",
      "    TS3004d.Array1-01        0.59  0.037440         1572.157   99.765334   \n",
      "    ES2009c.Array1-01        1.24  0.076951         1586.569   98.457637   \n",
      "    IS1002c.Array1-01        0.09  0.005453         1634.237   99.021862   \n",
      "    TOTAL                   29.39  0.182525        15958.174   99.107311   \n",
      "    \n",
      "                      confusion            \n",
      "                                        %  \n",
      "    item                                   \n",
      "    TS3009c.Array1-01     0.000  0.000000  \n",
      "    IS1000b.Array1-01     0.000  0.000000  \n",
      "    IS1004a.Array1-01     0.596  0.103112  \n",
      "    IS1008a.Array1-01     0.976  0.138400  \n",
      "    ES2005c.Array1-01     0.000  0.000000  \n",
      "    TS3010d.Array1-01     5.466  0.525602  \n",
      "    EN2001e.Array1-01     0.604  0.017939  \n",
      "    TS3004d.Array1-01     1.486  0.094298  \n",
      "    ES2009c.Array1-01     0.298  0.018493  \n",
      "    IS1002c.Array1-01     9.098  0.551267  \n",
      "    TOTAL                18.524  0.115042  \n",
      "[NeMo I 2025-02-14 19:47:18 nemo_logging:393] Cumulative Results for collar 0.25 sec and ignore_overlap False: \n",
      "    | FA: 0.0018 | MISS: 0.9911 | CER: 0.0012 | DER: 0.9940 | Spk. Count Acc. 0.0000\n",
      "    \n",
      "[NeMo I 2025-02-14 19:47:18 nemo_logging:393] Number of files to diarize: 10\n",
      "[NeMo I 2025-02-14 19:47:19 nemo_logging:393] Wrong Spk. Count with uniq_id:....Array1-01, Ref: 4, Hyp: 1\n"
     ]
    },
    {
     "name": "stderr",
     "output_type": "stream",
     "text": [
      "[NeMo W 2025-02-14 19:47:19 nemo_logging:405] /home/bunyamin/anaconda3/envs/WavLMMSDD/lib/python3.12/site-packages/pyannote/metrics/utils.py:200: UserWarning: 'uem' was approximated by the union of 'reference' and 'hypothesis' extents.\n",
      "      warnings.warn(\n",
      "    \n"
     ]
    },
    {
     "name": "stdout",
     "output_type": "stream",
     "text": [
      "[NeMo I 2025-02-14 19:47:19 nemo_logging:393] Wrong Spk. Count with uniq_id:....Array1-01, Ref: 4, Hyp: 1\n",
      "[NeMo I 2025-02-14 19:47:19 nemo_logging:393] Wrong Spk. Count with uniq_id:....Array1-01, Ref: 4, Hyp: 1\n",
      "[NeMo I 2025-02-14 19:47:19 nemo_logging:393] Wrong Spk. Count with uniq_id:....Array1-01, Ref: 4, Hyp: 1\n",
      "[NeMo I 2025-02-14 19:47:19 nemo_logging:393] Wrong Spk. Count with uniq_id:....Array1-01, Ref: 4, Hyp: 1\n",
      "[NeMo I 2025-02-14 19:47:19 nemo_logging:393] Wrong Spk. Count with uniq_id:....Array1-01, Ref: 4, Hyp: 1\n",
      "[NeMo I 2025-02-14 19:47:19 nemo_logging:393] Wrong Spk. Count with uniq_id:....Array1-01, Ref: 5, Hyp: 1\n",
      "[NeMo I 2025-02-14 19:47:19 nemo_logging:393] Wrong Spk. Count with uniq_id:....Array1-01, Ref: 4, Hyp: 1\n",
      "[NeMo I 2025-02-14 19:47:20 nemo_logging:393] Wrong Spk. Count with uniq_id:....Array1-01, Ref: 4, Hyp: 1\n",
      "[NeMo I 2025-02-14 19:47:20 nemo_logging:393] Wrong Spk. Count with uniq_id:....Array1-01, Ref: 4, Hyp: 1\n",
      "[NeMo I 2025-02-14 19:47:20 nemo_logging:393] \n",
      "                      diarization error rate      total  correct            \\\n",
      "                                           %                             %   \n",
      "    item                                                                     \n",
      "    TS3009c.Array1-01             100.038840   3115.356    8.320  0.267064   \n",
      "    IS1000b.Array1-01             100.465762   2232.902    0.000  0.000000   \n",
      "    IS1004a.Array1-01              97.718508    674.997   16.774  2.485048   \n",
      "    IS1008a.Array1-01              99.001077    854.921    9.250  1.081971   \n",
      "    ES2005c.Array1-01              99.580688   2704.429   14.010  0.518039   \n",
      "    TS3010d.Array1-01              99.086003   1418.713   14.233  1.003233   \n",
      "    EN2001e.Array1-01              99.129010   4277.429   39.376  0.920553   \n",
      "    TS3004d.Array1-01              99.921836   2428.221    2.500  0.102956   \n",
      "    ES2009c.Array1-01              98.831264   2106.721   25.934  1.231013   \n",
      "    IS1002c.Array1-01              99.577341   2150.199    9.881  0.459539   \n",
      "    TOTAL                          99.501450  21963.888  140.278  0.638676   \n",
      "    \n",
      "                      false alarm           missed detection              \\\n",
      "                                          %                            %   \n",
      "    item                                                                   \n",
      "    TS3009c.Array1-01       9.530  0.305904         3107.036   99.732936   \n",
      "    IS1000b.Array1-01      10.400  0.465762         2232.902  100.000000   \n",
      "    IS1004a.Array1-01       1.374  0.203556          657.201   97.363544   \n",
      "    IS1008a.Array1-01       0.710  0.083049          844.681   98.802229   \n",
      "    ES2005c.Array1-01       2.670  0.098727         2690.419   99.481961   \n",
      "    TS3010d.Array1-01       1.266  0.089236         1394.769   98.312273   \n",
      "    EN2001e.Array1-01       2.120  0.049562         4236.949   99.053637   \n",
      "    TS3004d.Array1-01       0.602  0.024792         2423.853   99.820115   \n",
      "    ES2009c.Array1-01       1.312  0.062277         2080.023   98.732723   \n",
      "    IS1002c.Array1-01       0.793  0.036880         2125.872   98.868616   \n",
      "    TOTAL                  30.777  0.140125        21793.705   99.225169   \n",
      "    \n",
      "                      confusion            \n",
      "                                        %  \n",
      "    item                                   \n",
      "    TS3009c.Array1-01     0.000  0.000000  \n",
      "    IS1000b.Array1-01     0.000  0.000000  \n",
      "    IS1004a.Array1-01     1.022  0.151408  \n",
      "    IS1008a.Array1-01     0.990  0.115800  \n",
      "    ES2005c.Array1-01     0.000  0.000000  \n",
      "    TS3010d.Array1-01     9.711  0.684494  \n",
      "    EN2001e.Array1-01     1.104  0.025810  \n",
      "    TS3004d.Array1-01     1.868  0.076929  \n",
      "    ES2009c.Array1-01     0.764  0.036265  \n",
      "    IS1002c.Array1-01    14.446  0.671845  \n",
      "    TOTAL                29.905  0.136155  \n",
      "[NeMo I 2025-02-14 19:47:20 nemo_logging:393] Cumulative Results for collar 0.0 sec and ignore_overlap False: \n",
      "    | FA: 0.0014 | MISS: 0.9923 | CER: 0.0014 | DER: 0.9950 | Spk. Count Acc. 0.0000\n",
      "    \n",
      "[NeMo I 2025-02-14 19:47:20 nemo_logging:393]   \n",
      "    \n"
     ]
    },
    {
     "data": {
      "text/plain": [
       "[[(<pyannote.metrics.diarization.DiarizationErrorRate at 0x7e2671505d90>,\n",
       "   {'TS3009c.Array1-01': {'speaker_0': 'A'},\n",
       "    'IS1000b.Array1-01': {},\n",
       "    'IS1004a.Array1-01': {'speaker_0': 'A'},\n",
       "    'IS1008a.Array1-01': {'speaker_0': 'A'},\n",
       "    'ES2005c.Array1-01': {'speaker_0': 'C'},\n",
       "    'TS3010d.Array1-01': {'speaker_0': 'A'},\n",
       "    'EN2001e.Array1-01': {'speaker_0': 'B'},\n",
       "    'TS3004d.Array1-01': {'speaker_0': 'A'},\n",
       "    'ES2009c.Array1-01': {'speaker_0': 'A'},\n",
       "    'IS1002c.Array1-01': {'speaker_0': 'D'}},\n",
       "   (0.9928440937670906,\n",
       "    0.0012406631840040318,\n",
       "    0.0023107155245803844,\n",
       "    0.9892927150585061)),\n",
       "  (<pyannote.metrics.diarization.DiarizationErrorRate at 0x7e27d3ef62a0>,\n",
       "   {'TS3009c.Array1-01': {'speaker_0': 'A'},\n",
       "    'IS1000b.Array1-01': {},\n",
       "    'IS1004a.Array1-01': {'speaker_0': 'A'},\n",
       "    'IS1008a.Array1-01': {'speaker_0': 'A'},\n",
       "    'ES2005c.Array1-01': {'speaker_0': 'C'},\n",
       "    'TS3010d.Array1-01': {'speaker_0': 'A'},\n",
       "    'EN2001e.Array1-01': {'speaker_0': 'B'},\n",
       "    'TS3004d.Array1-01': {'speaker_0': 'A'},\n",
       "    'ES2009c.Array1-01': {'speaker_0': 'A'},\n",
       "    'IS1002c.Array1-01': {'speaker_0': 'D'}},\n",
       "   (0.9940487820267827,\n",
       "    0.001150422241728532,\n",
       "    0.0018252488492982895,\n",
       "    0.9910731109357559)),\n",
       "  (<pyannote.metrics.diarization.DiarizationErrorRate at 0x7e27d1639eb0>,\n",
       "   {'TS3009c.Array1-01': {'speaker_0': 'A'},\n",
       "    'IS1000b.Array1-01': {},\n",
       "    'IS1004a.Array1-01': {'speaker_0': 'A'},\n",
       "    'IS1008a.Array1-01': {'speaker_0': 'A'},\n",
       "    'ES2005c.Array1-01': {'speaker_0': 'C'},\n",
       "    'TS3010d.Array1-01': {'speaker_0': 'A'},\n",
       "    'EN2001e.Array1-01': {'speaker_0': 'B'},\n",
       "    'TS3004d.Array1-01': {'speaker_0': 'A'},\n",
       "    'ES2009c.Array1-01': {'speaker_0': 'A'},\n",
       "    'IS1002c.Array1-01': {'speaker_0': 'D'}},\n",
       "   (0.9950144983438269,\n",
       "    0.0013615531093584157,\n",
       "    0.0014012546412547717,\n",
       "    0.9922516905932137))]]"
      ]
     },
     "execution_count": 20,
     "metadata": {},
     "output_type": "execute_result"
    }
   ],
   "execution_count": 20
  },
  {
   "metadata": {},
   "cell_type": "markdown",
   "source": "## Diarization `MSDD + WavLMBasePlus`\n",
   "id": "45e7cbccc6a2b27e"
  },
  {
   "metadata": {
    "ExecuteTime": {
     "end_time": "2025-02-14T16:47:38.920343Z",
     "start_time": "2025-02-14T16:47:20.184603Z"
    }
   },
   "cell_type": "code",
   "source": [
    "embedder = WavLMSV()\n",
    "\n",
    "diarizer = Diarizer(embedding=embedder, manifest_path=manifest_path)\n",
    "diarizer.run()"
   ],
   "id": "5b91c1501e2d8523",
   "outputs": [
    {
     "name": "stdout",
     "output_type": "stream",
     "text": [
      "[INFO] Loading XVector model: microsoft/wavlm-base-plus-sv on device: cuda\n",
      "[INFO] XVector dimension: 512\n",
      "[NeMo I 2025-02-14 19:47:27 nemo_logging:393] Loading pretrained vad_multilingual_marblenet model from NGC\n",
      "[NeMo I 2025-02-14 19:47:27 nemo_logging:393] Found existing object /home/bunyamin/.cache/torch/NeMo/NeMo_2.1.0/vad_multilingual_marblenet/670f425c7f186060b7a7268ba6dfacb2/vad_multilingual_marblenet.nemo.\n",
      "[NeMo I 2025-02-14 19:47:27 nemo_logging:393] Re-using file from: /home/bunyamin/.cache/torch/NeMo/NeMo_2.1.0/vad_multilingual_marblenet/670f425c7f186060b7a7268ba6dfacb2/vad_multilingual_marblenet.nemo\n",
      "[NeMo I 2025-02-14 19:47:27 nemo_logging:393] Instantiating model from pre-trained checkpoint\n"
     ]
    },
    {
     "name": "stderr",
     "output_type": "stream",
     "text": [
      "[NeMo W 2025-02-14 19:47:27 nemo_logging:405] If you intend to do training or fine-tuning, please call the ModelPT.setup_training_data() method and provide a valid configuration file to setup the train data loader.\n",
      "    Train config : \n",
      "    manifest_filepath: /manifests/ami_train_0.63.json,/manifests/freesound_background_train.json,/manifests/freesound_laughter_train.json,/manifests/fisher_2004_background.json,/manifests/fisher_2004_speech_sampled.json,/manifests/google_train_manifest.json,/manifests/icsi_all_0.63.json,/manifests/musan_freesound_train.json,/manifests/musan_music_train.json,/manifests/musan_soundbible_train.json,/manifests/mandarin_train_sample.json,/manifests/german_train_sample.json,/manifests/spanish_train_sample.json,/manifests/french_train_sample.json,/manifests/russian_train_sample.json\n",
      "    sample_rate: 16000\n",
      "    labels:\n",
      "    - background\n",
      "    - speech\n",
      "    batch_size: 256\n",
      "    shuffle: true\n",
      "    is_tarred: false\n",
      "    tarred_audio_filepaths: null\n",
      "    tarred_shard_strategy: scatter\n",
      "    augmentor:\n",
      "      shift:\n",
      "        prob: 0.5\n",
      "        min_shift_ms: -10.0\n",
      "        max_shift_ms: 10.0\n",
      "      white_noise:\n",
      "        prob: 0.5\n",
      "        min_level: -90\n",
      "        max_level: -46\n",
      "        norm: true\n",
      "      noise:\n",
      "        prob: 0.5\n",
      "        manifest_path: /manifests/noise_0_1_musan_fs.json\n",
      "        min_snr_db: 0\n",
      "        max_snr_db: 30\n",
      "        max_gain_db: 300.0\n",
      "        norm: true\n",
      "      gain:\n",
      "        prob: 0.5\n",
      "        min_gain_dbfs: -10.0\n",
      "        max_gain_dbfs: 10.0\n",
      "        norm: true\n",
      "    num_workers: 16\n",
      "    pin_memory: true\n",
      "    \n",
      "[NeMo W 2025-02-14 19:47:27 nemo_logging:405] If you intend to do validation, please call the ModelPT.setup_validation_data() or ModelPT.setup_multiple_validation_data() method and provide a valid configuration file to setup the validation data loader(s). \n",
      "    Validation config : \n",
      "    manifest_filepath: /manifests/ami_dev_0.63.json,/manifests/freesound_background_dev.json,/manifests/freesound_laughter_dev.json,/manifests/ch120_moved_0.63.json,/manifests/fisher_2005_500_speech_sampled.json,/manifests/google_dev_manifest.json,/manifests/musan_music_dev.json,/manifests/mandarin_dev.json,/manifests/german_dev.json,/manifests/spanish_dev.json,/manifests/french_dev.json,/manifests/russian_dev.json\n",
      "    sample_rate: 16000\n",
      "    labels:\n",
      "    - background\n",
      "    - speech\n",
      "    batch_size: 256\n",
      "    shuffle: false\n",
      "    val_loss_idx: 0\n",
      "    num_workers: 16\n",
      "    pin_memory: true\n",
      "    \n",
      "[NeMo W 2025-02-14 19:47:27 nemo_logging:405] Please call the ModelPT.setup_test_data() or ModelPT.setup_multiple_test_data() method and provide a valid configuration file to setup the test data loader(s).\n",
      "    Test config : \n",
      "    manifest_filepath: null\n",
      "    sample_rate: 16000\n",
      "    labels:\n",
      "    - background\n",
      "    - speech\n",
      "    batch_size: 128\n",
      "    shuffle: false\n",
      "    test_loss_idx: 0\n",
      "    \n"
     ]
    },
    {
     "name": "stdout",
     "output_type": "stream",
     "text": [
      "[NeMo I 2025-02-14 19:47:27 nemo_logging:393] PADDING: 16\n",
      "[NeMo I 2025-02-14 19:47:27 nemo_logging:393] Model EncDecClassificationModel was successfully restored from /home/bunyamin/.cache/torch/NeMo/NeMo_2.1.0/vad_multilingual_marblenet/670f425c7f186060b7a7268ba6dfacb2/vad_multilingual_marblenet.nemo.\n"
     ]
    },
    {
     "name": "stderr",
     "output_type": "stream",
     "text": [
      "[NeMo W 2025-02-14 19:47:27 nemo_logging:405] requested None model name not available in pretrained models, instead\n"
     ]
    },
    {
     "name": "stdout",
     "output_type": "stream",
     "text": [
      "[NeMo I 2025-02-14 19:47:27 nemo_logging:393] Loading pretrained ecapa_tdnn model from NGC\n",
      "[NeMo I 2025-02-14 19:47:27 nemo_logging:393] Found existing object /home/bunyamin/.cache/torch/NeMo/NeMo_2.1.0/ecapa_tdnn/3e0c5c4731b176aeb70c29a74d800c81/ecapa_tdnn.nemo.\n",
      "[NeMo I 2025-02-14 19:47:27 nemo_logging:393] Re-using file from: /home/bunyamin/.cache/torch/NeMo/NeMo_2.1.0/ecapa_tdnn/3e0c5c4731b176aeb70c29a74d800c81/ecapa_tdnn.nemo\n",
      "[NeMo I 2025-02-14 19:47:27 nemo_logging:393] Instantiating model from pre-trained checkpoint\n"
     ]
    },
    {
     "name": "stderr",
     "output_type": "stream",
     "text": [
      "[NeMo W 2025-02-14 19:47:28 nemo_logging:405] If you intend to do training or fine-tuning, please call the ModelPT.setup_training_data() method and provide a valid configuration file to setup the train data loader.\n",
      "    Train config : \n",
      "    manifest_filepath: /manifests/combined_fisher_swbd_voxceleb12_librispeech/train.json\n",
      "    sample_rate: 16000\n",
      "    labels: null\n",
      "    batch_size: 64\n",
      "    shuffle: true\n",
      "    time_length: 3\n",
      "    augmentor:\n",
      "      noise:\n",
      "        manifest_path: /manifests/noise/rir_noise_manifest.json\n",
      "        prob: 0.5\n",
      "        min_snr_db: 0\n",
      "        max_snr_db: 15\n",
      "      speed:\n",
      "        prob: 0.5\n",
      "        sr: 16000\n",
      "        resample_type: kaiser_fast\n",
      "        min_speed_rate: 0.95\n",
      "        max_speed_rate: 1.05\n",
      "    num_workers: 15\n",
      "    pin_memory: true\n",
      "    \n",
      "[NeMo W 2025-02-14 19:47:28 nemo_logging:405] If you intend to do validation, please call the ModelPT.setup_validation_data() or ModelPT.setup_multiple_validation_data() method and provide a valid configuration file to setup the validation data loader(s). \n",
      "    Validation config : \n",
      "    manifest_filepath: /manifests/combined_fisher_swbd_voxceleb12_librispeech/dev.json\n",
      "    sample_rate: 16000\n",
      "    labels: null\n",
      "    batch_size: 64\n",
      "    shuffle: false\n",
      "    time_length: 3\n",
      "    num_workers: 15\n",
      "    pin_memory: true\n",
      "    \n"
     ]
    },
    {
     "name": "stdout",
     "output_type": "stream",
     "text": [
      "[NeMo I 2025-02-14 19:47:28 nemo_logging:393] PADDING: 16\n",
      "[NeMo I 2025-02-14 19:47:28 nemo_logging:393] Model EncDecSpeakerLabelModel was successfully restored from /home/bunyamin/.cache/torch/NeMo/NeMo_2.1.0/ecapa_tdnn/3e0c5c4731b176aeb70c29a74d800c81/ecapa_tdnn.nemo.\n",
      "[NeMo I 2025-02-14 19:47:28 nemo_logging:393] Number of files to diarize: 10\n",
      "[NeMo I 2025-02-14 19:47:28 nemo_logging:393] Split long audio file to avoid CUDA memory issue\n"
     ]
    },
    {
     "name": "stderr",
     "output_type": "stream",
     "text": [
      "splitting manifest: 100%|██████████| 10/10 [00:00<00:00, 407.63it/s]"
     ]
    },
    {
     "name": "stdout",
     "output_type": "stream",
     "text": [
      "[NeMo I 2025-02-14 19:47:28 nemo_logging:393] Perform streaming frame-level VAD\n",
      "[NeMo I 2025-02-14 19:47:28 nemo_logging:393] Filtered duration for loading collection is  0.00 hours.\n",
      "[NeMo I 2025-02-14 19:47:28 nemo_logging:393] Dataset successfully loaded with 20 items and total duration provided from manifest is  0.17 hours.\n",
      "[NeMo I 2025-02-14 19:47:28 nemo_logging:393] # 20 files loaded accounting to # 1 labels\n"
     ]
    },
    {
     "name": "stderr",
     "output_type": "stream",
     "text": [
      "\n",
      "vad: 100%|██████████| 20/20 [00:01<00:00, 16.60it/s]"
     ]
    },
    {
     "name": "stdout",
     "output_type": "stream",
     "text": [
      "[NeMo I 2025-02-14 19:47:29 nemo_logging:393] Generating predictions with overlapping input segments\n"
     ]
    },
    {
     "name": "stderr",
     "output_type": "stream",
     "text": [
      "\n",
      "                                                                 "
     ]
    },
    {
     "name": "stdout",
     "output_type": "stream",
     "text": [
      "[NeMo I 2025-02-14 19:47:32 nemo_logging:393] Converting frame level prediction to speech/no-speech segment in start and end times format.\n"
     ]
    },
    {
     "name": "stderr",
     "output_type": "stream",
     "text": [
      "creating speech segments: 100%|██████████| 10/10 [00:00<00:00, 46.85it/s]"
     ]
    },
    {
     "name": "stdout",
     "output_type": "stream",
     "text": [
      "[NeMo I 2025-02-14 19:47:32 nemo_logging:393] Subsegmentation for embedding extraction: scale0, .temp/speaker_outputs/subsegments_scale0.json\n",
      "[NeMo I 2025-02-14 19:47:32 nemo_logging:393] Extracting embeddings for Diarization\n",
      "[NeMo I 2025-02-14 19:47:32 nemo_logging:393] Filtered duration for loading collection is  0.00 hours.\n",
      "[NeMo I 2025-02-14 19:47:32 nemo_logging:393] Dataset successfully loaded with 286 items and total duration provided from manifest is  0.07 hours.\n",
      "[NeMo I 2025-02-14 19:47:32 nemo_logging:393] # 286 files loaded accounting to # 1 labels\n"
     ]
    },
    {
     "name": "stderr",
     "output_type": "stream",
     "text": [
      "\n",
      "[1/5] extract embeddings: 100%|██████████| 5/5 [00:00<00:00,  9.17it/s]"
     ]
    },
    {
     "name": "stdout",
     "output_type": "stream",
     "text": [
      "[NeMo I 2025-02-14 19:47:33 nemo_logging:393] Saved embedding files to .temp/speaker_outputs/embeddings\n",
      "[NeMo I 2025-02-14 19:47:33 nemo_logging:393] Subsegmentation for embedding extraction: scale1, .temp/speaker_outputs/subsegments_scale1.json\n",
      "[NeMo I 2025-02-14 19:47:33 nemo_logging:393] Extracting embeddings for Diarization\n",
      "[NeMo I 2025-02-14 19:47:33 nemo_logging:393] Filtered duration for loading collection is  0.00 hours.\n",
      "[NeMo I 2025-02-14 19:47:33 nemo_logging:393] Dataset successfully loaded with 318 items and total duration provided from manifest is  0.07 hours.\n",
      "[NeMo I 2025-02-14 19:47:33 nemo_logging:393] # 318 files loaded accounting to # 1 labels\n"
     ]
    },
    {
     "name": "stderr",
     "output_type": "stream",
     "text": [
      "\n",
      "[2/5] extract embeddings: 100%|██████████| 5/5 [00:00<00:00, 11.96it/s]"
     ]
    },
    {
     "name": "stdout",
     "output_type": "stream",
     "text": [
      "[NeMo I 2025-02-14 19:47:33 nemo_logging:393] Saved embedding files to .temp/speaker_outputs/embeddings\n",
      "[NeMo I 2025-02-14 19:47:33 nemo_logging:393] Subsegmentation for embedding extraction: scale2, .temp/speaker_outputs/subsegments_scale2.json\n",
      "[NeMo I 2025-02-14 19:47:33 nemo_logging:393] Extracting embeddings for Diarization\n",
      "[NeMo I 2025-02-14 19:47:33 nemo_logging:393] Filtered duration for loading collection is  0.00 hours.\n",
      "[NeMo I 2025-02-14 19:47:33 nemo_logging:393] Dataset successfully loaded with 377 items and total duration provided from manifest is  0.08 hours.\n",
      "[NeMo I 2025-02-14 19:47:33 nemo_logging:393] # 377 files loaded accounting to # 1 labels\n"
     ]
    },
    {
     "name": "stderr",
     "output_type": "stream",
     "text": [
      "\n",
      "[3/5] extract embeddings: 100%|██████████| 6/6 [00:00<00:00, 12.68it/s]"
     ]
    },
    {
     "name": "stdout",
     "output_type": "stream",
     "text": [
      "[NeMo I 2025-02-14 19:47:34 nemo_logging:393] Saved embedding files to .temp/speaker_outputs/embeddings\n",
      "[NeMo I 2025-02-14 19:47:34 nemo_logging:393] Subsegmentation for embedding extraction: scale3, .temp/speaker_outputs/subsegments_scale3.json\n",
      "[NeMo I 2025-02-14 19:47:34 nemo_logging:393] Extracting embeddings for Diarization\n",
      "[NeMo I 2025-02-14 19:47:34 nemo_logging:393] Filtered duration for loading collection is  0.00 hours.\n",
      "[NeMo I 2025-02-14 19:47:34 nemo_logging:393] Dataset successfully loaded with 479 items and total duration provided from manifest is  0.08 hours.\n",
      "[NeMo I 2025-02-14 19:47:34 nemo_logging:393] # 479 files loaded accounting to # 1 labels\n"
     ]
    },
    {
     "name": "stderr",
     "output_type": "stream",
     "text": [
      "\n",
      "[4/5] extract embeddings: 100%|██████████| 8/8 [00:00<00:00, 16.47it/s]"
     ]
    },
    {
     "name": "stdout",
     "output_type": "stream",
     "text": [
      "[NeMo I 2025-02-14 19:47:34 nemo_logging:393] Saved embedding files to .temp/speaker_outputs/embeddings\n",
      "[NeMo I 2025-02-14 19:47:34 nemo_logging:393] Subsegmentation for embedding extraction: scale4, .temp/speaker_outputs/subsegments_scale4.json\n",
      "[NeMo I 2025-02-14 19:47:34 nemo_logging:393] Extracting embeddings for Diarization\n",
      "[NeMo I 2025-02-14 19:47:34 nemo_logging:393] Filtered duration for loading collection is  0.00 hours.\n",
      "[NeMo I 2025-02-14 19:47:34 nemo_logging:393] Dataset successfully loaded with 717 items and total duration provided from manifest is  0.09 hours.\n",
      "[NeMo I 2025-02-14 19:47:34 nemo_logging:393] # 717 files loaded accounting to # 1 labels\n"
     ]
    },
    {
     "name": "stderr",
     "output_type": "stream",
     "text": [
      "\n",
      "[5/5] extract embeddings: 100%|██████████| 12/12 [00:00<00:00, 21.43it/s]\n"
     ]
    },
    {
     "name": "stdout",
     "output_type": "stream",
     "text": [
      "[NeMo I 2025-02-14 19:47:35 nemo_logging:393] Saved embedding files to .temp/speaker_outputs/embeddings\n"
     ]
    },
    {
     "name": "stderr",
     "output_type": "stream",
     "text": [
      "clustering: 100%|██████████| 10/10 [00:01<00:00,  6.69it/s]"
     ]
    },
    {
     "name": "stdout",
     "output_type": "stream",
     "text": [
      "[NeMo I 2025-02-14 19:47:36 nemo_logging:393] Outputs are saved in /home/bunyamin/Desktop/BE_PC/Work/2.Project/7.WavLMMSDD/Dev/WavLMMSDD/notebook/.temp directory\n",
      "[NeMo I 2025-02-14 19:47:36 nemo_logging:393] Wrong Spk. Count with uniq_id:....Array1-01, Ref: 4, Hyp: 1\n"
     ]
    },
    {
     "name": "stderr",
     "output_type": "stream",
     "text": [
      "\n",
      "[NeMo W 2025-02-14 19:47:36 nemo_logging:405] /home/bunyamin/anaconda3/envs/WavLMMSDD/lib/python3.12/site-packages/pyannote/metrics/utils.py:200: UserWarning: 'uem' was approximated by the union of 'reference' and 'hypothesis' extents.\n",
      "      warnings.warn(\n",
      "    \n"
     ]
    },
    {
     "name": "stdout",
     "output_type": "stream",
     "text": [
      "[NeMo I 2025-02-14 19:47:37 nemo_logging:393] Wrong Spk. Count with uniq_id:....Array1-01, Ref: 4, Hyp: 1\n",
      "[NeMo I 2025-02-14 19:47:37 nemo_logging:393] Wrong Spk. Count with uniq_id:....Array1-01, Ref: 4, Hyp: 1\n",
      "[NeMo I 2025-02-14 19:47:37 nemo_logging:393] Wrong Spk. Count with uniq_id:....Array1-01, Ref: 4, Hyp: 1\n",
      "[NeMo I 2025-02-14 19:47:37 nemo_logging:393] Wrong Spk. Count with uniq_id:....Array1-01, Ref: 4, Hyp: 1\n",
      "[NeMo I 2025-02-14 19:47:37 nemo_logging:393] Wrong Spk. Count with uniq_id:....Array1-01, Ref: 4, Hyp: 2\n",
      "[NeMo I 2025-02-14 19:47:37 nemo_logging:393] Wrong Spk. Count with uniq_id:....Array1-01, Ref: 5, Hyp: 1\n",
      "[NeMo I 2025-02-14 19:47:38 nemo_logging:393] Wrong Spk. Count with uniq_id:....Array1-01, Ref: 4, Hyp: 1\n",
      "[NeMo I 2025-02-14 19:47:38 nemo_logging:393] Wrong Spk. Count with uniq_id:....Array1-01, Ref: 4, Hyp: 1\n",
      "[NeMo I 2025-02-14 19:47:38 nemo_logging:393] Wrong Spk. Count with uniq_id:....Array1-01, Ref: 4, Hyp: 3\n",
      "[NeMo I 2025-02-14 19:47:38 nemo_logging:393] \n",
      "                      diarization error rate      total     correct            \\\n",
      "                                           %                                %   \n",
      "    item                                                                        \n",
      "    TS3009c.Array1-01             100.443488   1162.602    4.373999  0.376225   \n",
      "    IS1000b.Array1-01             100.721019   1442.403    0.000000  0.000000   \n",
      "    IS1004a.Array1-01              97.567314    527.565   14.103999  2.673414   \n",
      "    IS1008a.Array1-01              98.705974    659.956    9.250004  1.401609   \n",
      "    ES2005c.Array1-01              99.268200   1355.018   12.476018  0.920727   \n",
      "    TS3010d.Array1-01              98.539074    911.545   14.447000  1.584892   \n",
      "    EN2001e.Array1-01              98.667483   2690.847   37.725994  1.402012   \n",
      "    TS3004d.Array1-01              99.860695   1164.349    2.211994  0.189977   \n",
      "    ES2009c.Array1-01              98.347669   1409.524   24.530002  1.740304   \n",
      "    IS1002c.Array1-01              99.284257   1395.195   10.076006  0.722193   \n",
      "    TOTAL                          99.215308  12719.004  129.195017  1.015764   \n",
      "    \n",
      "                      false alarm           missed detection              \\\n",
      "                                          %                            %   \n",
      "    item                                                                   \n",
      "    TS3009c.Array1-01    9.529998  0.819713      1158.228001   99.623775   \n",
      "    IS1000b.Array1-01   10.399999  0.721019      1442.403000  100.000000   \n",
      "    IS1004a.Array1-01    1.270000  0.240729       512.865001   97.213614   \n",
      "    IS1008a.Array1-01    0.709999  0.107583       649.729996   98.450502   \n",
      "    ES2005c.Array1-01    2.559998  0.188927      1342.541982   99.079273   \n",
      "    TS3010d.Array1-01    1.130002  0.123966       896.127999   98.308696   \n",
      "    EN2001e.Array1-01    1.870000  0.069495      2652.517006   98.575542   \n",
      "    TS3004d.Array1-01    0.590000  0.050672      1160.651005   99.682398   \n",
      "    ES2009c.Array1-01    1.239999  0.087973      1384.695997   98.238554   \n",
      "    IS1002c.Array1-01    0.090000  0.006451      1383.057994   99.130085   \n",
      "    TOTAL               29.389995  0.231072     12582.817980   98.929271   \n",
      "    \n",
      "                      confusion            \n",
      "                                        %  \n",
      "    item                                   \n",
      "    TS3009c.Array1-01  0.000000  0.000000  \n",
      "    IS1000b.Array1-01  0.000000  0.000000  \n",
      "    IS1004a.Array1-01  0.596000  0.112972  \n",
      "    IS1008a.Array1-01  0.976000  0.147889  \n",
      "    ES2005c.Array1-01  0.000000  0.000000  \n",
      "    TS3010d.Array1-01  0.970001  0.106413  \n",
      "    EN2001e.Array1-01  0.604000  0.022446  \n",
      "    TS3004d.Array1-01  1.486001  0.127625  \n",
      "    ES2009c.Array1-01  0.298001  0.021142  \n",
      "    IS1002c.Array1-01  2.061001  0.147721  \n",
      "    TOTAL              6.991003  0.054965  \n",
      "[NeMo I 2025-02-14 19:47:38 nemo_logging:393] Cumulative Results for collar 0.25 sec and ignore_overlap True: \n",
      "    | FA: 0.0023 | MISS: 0.9893 | CER: 0.0005 | DER: 0.9922 | Spk. Count Acc. 0.0000\n",
      "    \n",
      "Diarization Completed!\n"
     ]
    }
   ],
   "execution_count": 21
  }
 ],
 "metadata": {
  "kernelspec": {
   "display_name": "Python 3",
   "language": "python",
   "name": "python3"
  },
  "language_info": {
   "codemirror_mode": {
    "name": "ipython",
    "version": 2
   },
   "file_extension": ".py",
   "mimetype": "text/x-python",
   "name": "python",
   "nbconvert_exporter": "python",
   "pygments_lexer": "ipython2",
   "version": "2.7.6"
  }
 },
 "nbformat": 4,
 "nbformat_minor": 5
}
